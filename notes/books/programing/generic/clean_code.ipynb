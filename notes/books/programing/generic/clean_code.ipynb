{
 "cells": [
  {
   "cell_type": "markdown",
   "metadata": {
    "kernel": "SoS"
   },
   "source": [
    "# Introduction\n",
    "\n",
    "These notes are derived from the book \"Clean Code\", link in references.\n",
    "\n",
    "This notes contains a general guidelines for writing clean code. Writing clean code is very important has the code is only written onces and read multiple times. So this notes summaries best principles to follow to write clean and better code\n",
    "\n",
    "## What is clean code\n",
    "\n",
    "Lets see what great programmers have to say about what clean code is.\n",
    "\n",
    "> I like my code to be elegant and efficient. The logic should be straightforward to make it hard for bugs to hide, the dependencies minimal to ease maintenance, error handling complete according to an articulated strategy, and per- formance close to optimal so as not to tempt people to make the code messy with unprinci- pled optimizations. Clean code does one thing well. \n",
    ">\n",
    "> **Bjarne Stroustrup - C++ inventor**\n",
    "\n",
    "Also\n",
    "\n",
    "> Clean code is simple and direct. Clean code reads like well-written prose. Clean code never obscures the designer’s intent but rather is full of crisp abstractions and straightforward lines of control.\n",
    ">\n",
    "> **Grady Booch - author Object Oriented Analysis and Design with Applications**\n",
    "\n",
    "Below are two of my most favourite.\n",
    "\n",
    "> I could list all of the qualities that I notice in clean code, but there is one overarching quality that leads to all of them. Clean code always looks like it was written by someone who cares. There is nothing obvious that you can do to make it better. All of those things were thought about by the code’s author, and if you try to imagine improvements, you’re led back to where you are, sitting in appreciation of the code someone left for you—code left by someone who cares deeply about the craft.\n",
    ">\n",
    "> **Michael Feathers- Author Working Effectively with Legacy Code**\n",
    "\n",
    "And\n",
    "\n",
    "> You know you are working on clean code when each routine you read turns out to be pretty much what you expected. You can call it beautiful code when the code also makes it look like the language was made for the problem.\n",
    ">\n",
    "> **Ward Cunningham - inventor of Wiki**\n",
    "\n",
    "# Naming\n",
    "\n",
    "Names are everywhere in software. We name our variables, our functions, our arguments, classes, and packages. We name our source files and the directories that contain them. We name and name and name. Because we do so much of it, we’d better do it well. What follows are some simple rules for creating good names.\n",
    "\n",
    "## Use Intention-Revealing Names\n",
    "\n",
    "The name of a variable, function, or class, should answer all the big questions. It should tell you why it exists, what it does, and how it is used. If a name requires a comment, then the name does not reveal its intent.\n"
   ]
  },
  {
   "cell_type": "code",
   "execution_count": 4,
   "metadata": {
    "kernel": "java"
   },
   "outputs": [],
   "source": [
    "int d; // elapsed days in time (Bad)\n",
    "\n",
    "int elapsedTimeInDays; // (Good, without coments)"
   ]
  },
  {
   "cell_type": "markdown",
   "metadata": {
    "kernel": "SoS"
   },
   "source": [
    "## Make Meaningful Distinctions\n",
    "\n",
    "Programmers create problems for themselves when they write code solely to satisfy a compiler or interpreter. For example, because you cant use the same name to refer to two different things in the same scope, you might be tempted to change one name in an arbitrary way. It is not sufficient to add number series or noise words, even though the compiler is satisfied. If names must be different, then they should also mean something different.\n",
    "\n",
    "Number-series naming ```(a1, a2, .. aN)``` is the opposite of intentional naming. Such names are not disinformative they are non informative; they provide no clue to the authors intention. Consider:"
   ]
  },
  {
   "cell_type": "code",
   "execution_count": null,
   "metadata": {
    "kernel": "java"
   },
   "outputs": [],
   "source": [
    "// Bad variable name\n",
    "public static void copyChars(char a1[], char a2[]) { \n",
    "    \n",
    "    for (int i = 0; i < a1.length; i++) {\n",
    "        a2[i] = a1[i]; \n",
    "    }\n",
    "}\n",
    "\n",
    "// Bad variable name\n",
    "public static void copyChars2(char source[], char destination[]) { \n",
    "    \n",
    "    for (int i = 0; i < source.length; i++) {\n",
    "        destination[i] = source[i]; \n",
    "    }\n",
    "}"
   ]
  },
  {
   "cell_type": "markdown",
   "metadata": {
    "kernel": "java"
   },
   "source": [
    "This function reads much better when source and destination are used for the argument names."
   ]
  },
  {
   "cell_type": "markdown",
   "metadata": {
    "kernel": "java"
   },
   "source": [
    "## Use Pronounceable Names\n",
    "\n",
    "Humans are good at words. A significant part of our brains is dedicated to the concept of words. So make your names pronounceable.\n",
    "\n",
    "## Use Searchable Names\n",
    "\n",
    "Single-letter names and numeric constants have a particular problem in that they are not easy to locate across a body of text.\n",
    "\n",
    "One might easily grep for ```MAX_CLASSES_PER_STUDENT```, but the number ```7``` could be more troublesome. Searches may turn up the digit as part of file names, other constant definitions, and in various expressions where the value is used with different intent. It is even worse when a constant is a long number and someone might have transposed digits, thereby creating a bug while simultaneously evading the programmers search.\n",
    "\n",
    "Likewise, the name e is a poor choice for any variable for which a programmer might need to search. It is the most common letter in the English language and likely to show up in every passage of text in every program. In this regard, longer names trump shorter names, and any searchable name trumps a constant in code.\n",
    "\n",
    "## Class Names\n",
    "\n",
    "Classes and objects should have noun or noun phrase names like ```Customer```, ```WikiPage```, ```Account```, and ```AddressParser```. Avoid words like ```Manager```, ```Processor```, ```Data```, or ```Info``` in the name of a class. A class name should not be a verb. \n",
    "\n",
    "## Method Names\n",
    "\n",
    "Methods should have verb or verb phrase names like ```postPayment```, ```deletePage```, or save. Accessors, mutators, and predicates should be named for their value and prefixed with **get**, **set**, and **is**.\n",
    "\n",
    "\n",
    "## Pick One Word per Concept\n",
    "\n",
    "Pick one word for one abstract concept and stick with it. For instance, its confusing to have ```fetch```, ```retrieve```, and ```get``` as equivalent methods of different classes.\n",
    "\n",
    "\n",
    "# Functions\n",
    "\n",
    "Functions are the first line of organization in any program. So let see some guidelines for writing code functions\n",
    "\n",
    "\n",
    "## Function show be ~~small~~ tiny\n",
    "\n",
    "The first rule of functions is that they should be small. The second rule of functions is that they should be smaller than that.\n",
    "\n",
    "Every function must be just two, or three, or four lines long. Each one must be transparently obvious. Each functions told a story. And each led you to the next in a compelling order. That's how short your functions should be!\n",
    "\n",
    "## Blocks and Indenting\n",
    "\n",
    "This implies that the blocks within if statements, else statements, while statements, and so on should be one line long. Probably that line should be a function call. Not only does this keep the enclosing function small, but it also adds documentary value because the function called within the block can have a nicely descriptive name.\n",
    "\n",
    "This also implies that functions should not be large enough to hold nested structures. Therefore, the indent level of a function should not be greater than one or two. This, of course, makes the functions easier to read and understand.\n",
    "\n",
    "## Do one F**KING thing\n",
    "\n",
    "Every function is should only do one thing. If it is doing multiple things, then break it down further in smaller functions.\n",
    "\n",
    "\n",
    "## Reading Code from Top to Bottom: The Stepdown Rule\n",
    "\n",
    "We want the code to read like a top-down narrative. We want every function to be followed by those at the next level of abstraction so that we can read the program, descending one level of abstraction at a time as we read down the list of functions.\n",
    "\n",
    "\n",
    "## Switch Statements\n",
    "\n",
    "It's hard to make a small switch statement. Even a switch statement with only two cases is larger than a single block or function to be. It's also hard to make a switch statement that does one thing. By their nature, switch statements always do N things. Unfortunately we can't always avoid switch statements, but we can make sure that each switch statement is buried in a low level class and is never repeated. We do this, of course, with polymorphism.\n",
    "\n",
    "Consider the following code"
   ]
  },
  {
   "cell_type": "code",
   "execution_count": null,
   "metadata": {
    "kernel": "java"
   },
   "outputs": [],
   "source": [
    "public Money calculatePay(Employee e) throws InvalidEmployeeType {\n",
    "    \n",
    "    switch (e.type) { \n",
    "        \n",
    "        case COMMISSIONED:\n",
    "            return calculateCommissionedPay(e);\n",
    "        \n",
    "        case HOURLY:\n",
    "            return calculateHourlyPay(e); \n",
    "        \n",
    "        case SALARIED:\n",
    "            return calculateSalariedPay(e); \n",
    "        \n",
    "        default:\n",
    "            throw new InvalidEmployeeType(e.type); \n",
    "    }\n",
    "}"
   ]
  },
  {
   "cell_type": "markdown",
   "metadata": {
    "kernel": "java"
   },
   "source": [
    "\n",
    "There are several problems with this function. First, it's large, and when new employee types are added, it will grow. Second, it very clearly does more than one thing. Third, it violates the Single Responsibility Principle, because there is more than one reason for it to change. Fourth, it violates the Open Closed Principle, because it must change whenever new types are added. But possibly the worst problem with this function is that there are an unlimited number of other functions that will have the same structure.\n",
    "\n",
    "The solution to this problem is to bury the switch statement in the basement of an ABSTRACT FACTORY, and never let anyone see it. The factory will use the switch statement to create appropriate instances of the derivatives of Employee, and the various functions, such as ```calculatePay```, ```isPayday```, and ```deliverPay```, will be dispatched polymorphically through the Employee interface."
   ]
  },
  {
   "cell_type": "code",
   "execution_count": null,
   "metadata": {
    "kernel": "java"
   },
   "outputs": [],
   "source": [
    "public abstract class Employee {\n",
    "    public abstract boolean isPayday();\n",
    "    public abstract Money calculatePay();\n",
    "    public abstract void deliverPay(Money pay);\n",
    "}\n",
    "\n",
    "public interface EmployeeFactory {\n",
    "    public Employee makeEmployee(EmployeeRecord r) throws InvalidEmployeeType; \n",
    "}\n",
    "\n",
    "\n",
    "public class EmployeeFactoryImpl implements EmployeeFactory {\n",
    "    \n",
    "    public Employee makeEmployee(EmployeeRecord r) throws InvalidEmployeeType { \n",
    "        \n",
    "        switch (r.type) {\n",
    "            case COMMISSIONED:\n",
    "                return new CommissionedEmployee(r) ;\n",
    "\n",
    "            case HOURLY:\n",
    "                return new HourlyEmployee(r);\n",
    "\n",
    "            case SALARIED:\n",
    "                return new SalariedEmploye(r);\n",
    "            \n",
    "            default:\n",
    "                throw new InvalidEmployeeType(r.type);\n",
    "        } \n",
    "    }\n",
    "}"
   ]
  },
  {
   "cell_type": "markdown",
   "metadata": {
    "kernel": "java"
   },
   "source": [
    "\n",
    "## Use Descriptive Names\n",
    "\n",
    "Remember Ward's principle: \"You know you are working on clean code when each routine turns out to be pretty much what you expected.\" Half the battle to achieving that principle is choosing good names for small functions that do one thing. The smaller and more focused a function is, the easier it is to choose a descriptive name.\n",
    "\n",
    "Don't be afraid to make a name long. A long descriptive name is better than a short enigmatic name. A long descriptive name is better than a long descriptive comment. Use a naming convention that allows multiple words to be easily read in the function names, and then make use of those multiple words to give the function a name that says what it does.\n",
    "\n",
    "## Function Arguments\n",
    "\n",
    "The ideal number of arguments for a function is zero (niladic). Next comes one (monadic), followed closely by two (dyadic). Three arguments (triadic) should be avoided where possible. More than three (polyadic) requires very special justification and then shouldn't be used anyway.\n",
    "\n",
    "## Have No Side Effects\n",
    "\n",
    "Side effects are lies. Your function promises to do one thing, but it also does other hidden things. Sometimes it will make unexpected changes to the variables of its own class. Sometimes it will make them to the parameters passed into the function or to system globals. In either case they are devious and damaging mistruths that often result in strange temporal couplings and order dependencies.\n",
    "\n",
    "So avoid them!\n",
    "\n",
    "## Command Query Separation\n",
    "\n",
    "Functions should either do something or answer something, but not both. Either your function should change the state of an object, or it should return some information about that object. Doing both often leads to confusion. Consider, for example, the following function:\n"
   ]
  },
  {
   "cell_type": "code",
   "execution_count": null,
   "metadata": {
    "kernel": "java"
   },
   "outputs": [],
   "source": [
    "public boolean set(String attribute, String value);"
   ]
  },
  {
   "cell_type": "markdown",
   "metadata": {
    "kernel": "java"
   },
   "source": [
    "This function sets the value of a named attribute and returns true if it is successful and false if no such attribute exists. Which is bad.\n",
    "\n",
    "The real solution is to separate the command from the query."
   ]
  },
  {
   "cell_type": "code",
   "execution_count": null,
   "metadata": {
    "kernel": "java"
   },
   "outputs": [],
   "source": [
    "public boolean attributeExists(String attribute);\n",
    "\n",
    "public void setAttribute(String attribute, String value);"
   ]
  },
  {
   "cell_type": "markdown",
   "metadata": {
    "kernel": "java"
   },
   "source": [
    "## Prefer Exceptions to Returning Error Codes\n",
    "\n",
    "Returning error codes from command functions is a subtle violation of command query separation. It promotes commands being used as expressions in the predicates of if statements in the calling function. So throw exception from function instead of returning error code.\n",
    "\n",
    "# Comments\n",
    "\n",
    "Nothing can be quite so helpful as a well-placed comment. Nothing can clutter up a module more than frivolous dogmatic comments. Nothing can be quite so damaging as an old crufty comment that propagates lies and misinformation.\n",
    "\n",
    "The proper use of comments is to compensate for our failure to express ourself in code. Comments are always failures. We must have them because we cannot always figure out how to express ourselves without them, but their use is not a cause for celebration.\n",
    "\n",
    "So when you find yourself in a position where you need to write a comment, think it through and see whether there isn’t some way to turn the tables and express yourself in code. Every time you express yourself in code, you should pat yourself on the back. Every time you write a comment, you should grimace and feel the failure of your ability of expression.\n",
    "\n",
    "But comments can be good in some situations as follows.\n",
    "\n",
    "## Legal Comments\n",
    "\n",
    "Sometimes our corporate coding standards force us to write certain comments for legal reasons. For example, copyright and authorship statements are necessary and reasonable things to put into a comment at the start of each source file.\n",
    "\n",
    "## Informative Comments\n",
    "\n",
    "It is sometimes useful to provide basic information with a comment. For example, consider this comment:"
   ]
  },
  {
   "cell_type": "code",
   "execution_count": null,
   "metadata": {
    "kernel": "java"
   },
   "outputs": [],
   "source": [
    "// format matched kk:mm:ss EEE, MMM dd, yyyy \n",
    "Pattern timeMatcher = Pattern.compile(\"\\\\d*:\\\\d*:\\\\d* \\\\w*, \\\\w* \\\\d*, \\\\d*\");"
   ]
  },
  {
   "cell_type": "markdown",
   "metadata": {
    "kernel": "java"
   },
   "source": [
    "## Explanation of Intent\n",
    "\n",
    "Sometimes a comment goes beyond just useful information about the implementation and provides the intent behind a decision."
   ]
  },
  {
   "cell_type": "code",
   "execution_count": null,
   "metadata": {
    "kernel": "java"
   },
   "outputs": [],
   "source": [
    "//This is our best attempt to get a race condition \n",
    "//by creating large number of threads.\n",
    "for (int i = 0; i < 25000; i++) {\n",
    "    WidgetBuilderThread widgetBuilderThread =new WidgetBuilderThread(widgetBuilder, text, parent, failFlag);\n",
    "    Thread thread = new Thread(widgetBuilderThread);\n",
    "    thread.start(); \n",
    "}"
   ]
  },
  {
   "cell_type": "markdown",
   "metadata": {
    "kernel": "java"
   },
   "source": [
    "# Objects and Data Structures\n",
    "\n",
    "There is a reason that we keep our variables private. We don't want anyone else to depend on them. We want to keep the freedom to change their type or implementation on a whim or an impulse. Why, then, do so many programmers automatically add getters and setters to their objects, exposing their private variables as if they were public?\n",
    "\n",
    "## Data abstraction\n",
    "\n",
    "Consider example below"
   ]
  },
  {
   "cell_type": "code",
   "execution_count": null,
   "metadata": {
    "kernel": "java"
   },
   "outputs": [],
   "source": [
    "public class Point { \n",
    "    public double x; \n",
    "    public double y;\n",
    "}"
   ]
  },
  {
   "cell_type": "markdown",
   "metadata": {
    "kernel": "java"
   },
   "source": [
    "and"
   ]
  },
  {
   "cell_type": "code",
   "execution_count": null,
   "metadata": {
    "kernel": "java"
   },
   "outputs": [],
   "source": [
    "public interface Point {\n",
    "    double getX();\n",
    "    double getY();\n",
    "    void setCartesian(double x, double y); \n",
    "    double getR();\n",
    "    double getTheta();\n",
    "    void setPolar(double r, double theta); \n",
    "}"
   ]
  },
  {
   "cell_type": "markdown",
   "metadata": {
    "kernel": "java"
   },
   "source": [
    "Both represent the data of a point on the Cartesian plane. And yet one exposes its implementation and the other completely hides it.\n",
    "\n",
    "The beautiful thing about the interface example is that there is no way you can tell whether the implementation is in rectangular or polar coordinates. It might be neither! And yet the interface still unmistakably represents a data structure.\n",
    "\n",
    "But it represents more than just a data structure. The methods enforce an access policy. You can read the individual coordinates independently, but you must set the coordinates together as an atomic operation.\n",
    "\n",
    "## Data/Object Anti-Symmetry\n",
    "\n",
    "Consider the example"
   ]
  },
  {
   "cell_type": "code",
   "execution_count": null,
   "metadata": {
    "kernel": "java"
   },
   "outputs": [],
   "source": [
    "public class Square { \n",
    "    public Point topLeft; \n",
    "    public double side;\n",
    "}\n",
    "\n",
    "public class Rectangle { \n",
    "    public Point topLeft; \n",
    "    public double height; \n",
    "    public double width;\n",
    "}\n",
    "\n",
    "public class Circle { \n",
    "    public Point center; \n",
    "    public double radius;\n",
    "}\n",
    "\n",
    "public class Geometry {\n",
    "    public final double PI = 3.141592653589793;\n",
    "    \n",
    "    public double area(Object shape) throws NoSuchShapeException {\n",
    "\n",
    "        if (shape instanceof Square) { \n",
    "            Square s = (Square)shape; \n",
    "            return s.side * s.side;\n",
    "        } else if (shape instanceof Rectangle) { \n",
    "            Rectangle r = (Rectangle)shape; return r.height * r.width;\n",
    "        } else if (shape instanceof Circle) {\n",
    "            Circle c = (Circle)shape;\n",
    "            return PI * c.radius * c.radius; \n",
    "        }\n",
    "        \n",
    "        throw new NoSuchShapeException(); \n",
    "    }\n",
    "}"
   ]
  },
  {
   "cell_type": "markdown",
   "metadata": {
    "kernel": "java"
   },
   "source": [
    "And"
   ]
  },
  {
   "cell_type": "code",
   "execution_count": null,
   "metadata": {
    "kernel": "java"
   },
   "outputs": [],
   "source": [
    "public class Square implements Shape { \n",
    "    private Point topLeft;\n",
    "    private double side;\n",
    "    public double area() { \n",
    "        return side*side;\n",
    "    } \n",
    "}\n",
    "\n",
    "public class Rectangle implements Shape { \n",
    "    private Point topLeft;\n",
    "    private double height;\n",
    "    private double width;\n",
    "    \n",
    "    public double area() { \n",
    "        return height * width;\n",
    "    } \n",
    "}\n",
    "\n",
    "public class Circle implements Shape { \n",
    "    private Point center;\n",
    "    private double radius;\n",
    "    public final double PI = 3.141592653589793;\n",
    "    \n",
    "    public double area() {\n",
    "       return PI * radius * radius;\n",
    "    } \n",
    "}"
   ]
  },
  {
   "cell_type": "markdown",
   "metadata": {
    "kernel": "java"
   },
   "source": [
    "These two examples show the difference between objects and data structures. Objects hide their data behind abstractions and expose functions that operate on that data. Data structure expose their data and have no meaningful functions.\n",
    "\n",
    "As seen from the example, this is the fundamental difference between object and data structure.\n",
    "\n",
    "*Procedural code (code using data structures) makes it easy to add new functions without changing the existing data structures. OO code, on the other hand, makes it easy to add new classes without changing existing functions.*\n",
    "\n",
    "The complement is also true:\n",
    "\n",
    "*Procedural code makes it hard to add new data structures because all the functions must change. OO code makes it hard to add new functions because all the classes must change.*\n",
    "\n",
    "## The law of Demeter\n",
    "\n",
    "There is a well-known heuristic called the Law of Demeter2 that says a module should not know about the innards of the objects it manipulates. In other words, an object should not expose its internal structure through accessors because to do so is to expose, rather than to hide, its internal structure.\n",
    "\n",
    "More precisely, the Law of Demeter says that a method f of a class C should only call the methods of these:\n",
    "\n",
    "* C\n",
    "* An object created by f\n",
    "* An object passed as argument to f\n",
    "* An object held in an instance variable C\n",
    "\n",
    "For example:"
   ]
  },
  {
   "cell_type": "code",
   "execution_count": null,
   "metadata": {
    "kernel": "java"
   },
   "outputs": [],
   "source": [
    "final String outputDir = ctxt.getOptions().getScratchDir().getAbsolutePath();"
   ]
  },
  {
   "cell_type": "markdown",
   "metadata": {
    "kernel": "java"
   },
   "source": [
    "The following code3 appears to violate the Law of Demeter (among other things) because it calls the ```getScratchDir()``` function on the return value of ```getOptions()``` and then calls ```getAbsolutePath()``` on the return value of ```getScratchDir()```.\n",
    "\n",
    "## Data transfer object\n",
    "\n",
    "The quintessential form of a data structure is a class with public variables and no functions. This is sometimes called a data transfer object, or DTO. DTOs are very useful structures, especially when communicating with databases or parsing messages from sockets, and so on. They often become the first in a series of translation stages that convert raw data in a database into objects in the application code.\n",
    "\n",
    "Example of Address DTO."
   ]
  },
  {
   "cell_type": "code",
   "execution_count": null,
   "metadata": {
    "kernel": "java"
   },
   "outputs": [],
   "source": [
    "public class Address { \n",
    "    private String street; \n",
    "    private String streetExtra; \n",
    "    private String city; \n",
    "    private String state; \n",
    "    private String zip;\n",
    "\n",
    "    public Address(String street, String streetExtra, String city, String state, String zip) {\n",
    "        this.street = street; \n",
    "        this.streetExtra = streetExtra; \n",
    "        this.city = city;\n",
    "        this.state = state;\n",
    "        this.zip = zip;\n",
    "    }\n",
    "    \n",
    "    public String getStreet() { \n",
    "        return street;\n",
    "    }\n",
    "\n",
    "    public String getStreetExtra() { \n",
    "        return streetExtra;\n",
    "    }\n",
    "\n",
    "    public String getCity() { \n",
    "        return city;\n",
    "    }\n",
    "\n",
    "    public String getState() { \n",
    "        return state;\n",
    "    }\n",
    "\n",
    "    public String getZip() { \n",
    "        return zip;\n",
    "    } \n",
    "}"
   ]
  },
  {
   "cell_type": "markdown",
   "metadata": {
    "kernel": "java"
   },
   "source": [
    "## Active Records\n",
    "\n",
    "Active Records are special forms of DTOs. They are data structures with public (or bean- accessed) variables; but they typically have navigational methods like save and find. Typically these Active Records are direct translations from database tables, or other data sources.\n",
    "\n",
    "# Classes\n",
    "\n",
    "## Class organization\n",
    "\n",
    "A class should begin with a list of variables. Public static constants, if any, should come first. Then private static variables, followed by private instance variables. There is seldom a good reason to have a public variable.\n",
    "\n",
    "Public functions should follow the list of variables. Private utilities called by a public function right after the public function itself. This follows the stepdown rule and helps the program read like a newspaper article.\n",
    "\n",
    "## Classes Should Be Small!\n",
    "\n",
    "The first rule of classes is that they should be small. The second rule of classes is that they should be smaller than that.\n",
    "\n",
    "With functions we measured size by counting physical lines. With classes we use a different measure. We count responsibilities.\n",
    "\n",
    "## The Single Responsibility Principle\n",
    "\n",
    "The Single Responsibility Principle (SRP) states that a class or module should have one, and only one, reason to change. This principle gives us both a definition of responsibility, and a guidelines for class size. Classes should have one responsibility and one reason to change.\n",
    "\n",
    "## Cohesion\n",
    "\n",
    "Classes should have a small number of instance variables. Each of the methods of a class should manipulate one or more of those variables. In general the more variables a method manipulates the more cohesive that method is to its class. A class in which each variable is used by each method is maximally cohesive.\n",
    "\n",
    "In general it is neither advisable nor possible to create such maximally cohesive classes; on the other hand, we would like cohesion to be high. When cohesion is high, it means that the methods and variables of the class are co-dependent and hang together as a logical whole. Maintaining cohesion results in small classes.\n",
    "\n",
    "## Organizing for Change\n",
    "\n",
    "For most systems, change is continual. Every change subjects us to the risk that the remainder of the system no longer works as intended. In a clean system we organize our classes so as to reduce the risk of change.\n",
    "\n",
    "Classes should be open for extension but closed for modification.\n",
    "\n",
    "# References\n",
    "\n",
    "Clean Code - Robert C. Martin ([link](https://www.goodreads.com/book/show/3735293-clean-code))"
   ]
  }
 ],
 "metadata": {
  "kernelspec": {
   "display_name": "SoS",
   "language": "sos",
   "name": "sos"
  },
  "language_info": {
   "codemirror_mode": "sos",
   "file_extension": ".sos",
   "mimetype": "text/x-sos",
   "name": "sos",
   "nbconvert_exporter": "sos_notebook.converter.SoS_Exporter",
   "pygments_lexer": "sos"
  },
  "note_info": {
   "description": "Notes for the book Clean Code by Robert C Martin",
   "filename": "clean_code.ipynb",
   "image": "static/img/notes/books/programing/clean_code/logo.jpg",
   "slug": "clean-code",
   "title": "Clean Code"
  },
  "sos": {
   "kernels": [
    [
     "SoS",
     "sos",
     "",
     "",
     "sos"
    ],
    [
     "java",
     "java",
     "java",
     "",
     ""
    ]
   ],
   "panel": {
    "displayed": true,
    "height": 0
   },
   "version": "0.19.1"
  },
  "toc": {
   "base_numbering": 1,
   "nav_menu": {},
   "number_sections": true,
   "sideBar": true,
   "skip_h1_title": false,
   "title_cell": "Table of Contents",
   "title_sidebar": "Contents",
   "toc_cell": false,
   "toc_position": {},
   "toc_section_display": true,
   "toc_window_display": false
  }
 },
 "nbformat": 4,
 "nbformat_minor": 2
}
