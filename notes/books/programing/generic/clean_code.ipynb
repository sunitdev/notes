{
 "cells": [
  {
   "cell_type": "markdown",
   "metadata": {},
   "source": [
    "# Introduction\n",
    "\n",
    "These notes are derived from the book \"Clean Code\", link in references.\n",
    "\n",
    "This notes contains a general guidelines for writing clean code. Writing clean code is very important has the code is only written onces and read multiple times. So this notes summaries best principles to follow to write clean and better code\n",
    "\n",
    "## What is clean code\n",
    "\n",
    "Lets see what great programmers have to say about what clean code is.\n",
    "\n",
    "> I like my code to be elegant and efficient. The logic should be straightforward to make it hard for bugs to hide, the dependencies minimal to ease maintenance, error handling complete according to an articulated strategy, and per- formance close to optimal so as not to tempt people to make the code messy with unprinci- pled optimizations. Clean code does one thing well. \n",
    ">\n",
    "> **Bjarne Stroustrup - C++ inventor**\n",
    "\n",
    "Also\n",
    "\n",
    "> Clean code is simple and direct. Clean code reads like well-written prose. Clean code never obscures the designer’s intent but rather is full of crisp abstractions and straightforward lines of control.\n",
    ">\n",
    "> **Grady Booch - author Object Oriented Analysis and Design with Applications**\n",
    "\n",
    "Below are two of my most favourite.\n",
    "\n",
    "> I could list all of the qualities that I notice in clean code, but there is one overarching quality that leads to all of them. Clean code always looks like it was written by someone who cares. There is nothing obvious that you can do to make it better. All of those things were thought about by the code’s author, and if you try to imagine improvements, you’re led back to where you are, sitting in appreciation of the code someone left for you—code left by someone who cares deeply about the craft.\n",
    ">\n",
    "> **Michael Feathers- Author Working Effectively with Legacy Code**\n",
    "\n",
    "And\n",
    "\n",
    "> You know you are working on clean code when each routine you read turns out to be pretty much what you expected. You can call it beautiful code when the code also makes it look like the language was made for the problem.\n",
    ">\n",
    "> **Ward Cunningham - inventor of Wiki**\n",
    "\n",
    "# Naming\n",
    "\n",
    "Names are everywhere in software. We name our variables, our functions, our arguments, classes, and packages. We name our source files and the directories that contain them. We name and name and name. Because we do so much of it, we’d better do it well. What follows are some simple rules for creating good names.\n",
    "\n",
    "## Name 2\n",
    "\n",
    "### Name 3.1\n",
    "\n",
    "### Name 3.2\n",
    "\n",
    "\n",
    "## Name 2.1\n",
    "\n",
    "## Name 2.2\n",
    "\n",
    "# Something"
   ]
  }
 ],
 "metadata": {
  "kernelspec": {
   "display_name": "Python 3",
   "language": "python",
   "name": "python3"
  },
  "language_info": {
   "codemirror_mode": {
    "name": "ipython",
    "version": 3
   },
   "file_extension": ".py",
   "mimetype": "text/x-python",
   "name": "python",
   "nbconvert_exporter": "python",
   "pygments_lexer": "ipython3",
   "version": "3.6.7"
  },
  "note_info": {
   "description": "Notes for the book Clean Code by Robert C Martin",
   "filename": "clean_code.ipynb",
   "image": "static/img/notes/books/programing/clean_code/logo.jpg",
   "slug": "clean-code",
   "title": "Clean Code"
  },
  "toc": {
   "base_numbering": 1,
   "nav_menu": {},
   "number_sections": true,
   "sideBar": true,
   "skip_h1_title": false,
   "title_cell": "Table of Contents",
   "title_sidebar": "Contents",
   "toc_cell": false,
   "toc_position": {},
   "toc_section_display": true,
   "toc_window_display": false
  }
 },
 "nbformat": 4,
 "nbformat_minor": 2
}
