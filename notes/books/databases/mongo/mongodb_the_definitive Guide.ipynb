{
 "cells": [
  {
   "cell_type": "markdown",
   "metadata": {
    "kernel": "SoS"
   },
   "source": [
    "# Introduction\n",
    "\n",
    "MongoDB is a powerful, flexible, and scalable general-purpose database. It combines the ability to scale out with features such as secondary indexes, range queries, sorting, aggregations, and geospatial indexes.\n",
    "\n",
    "MongoDB was made for high scalability. It does so by providing features like sharding, replication etc out of the box. It solve the scalability problems of relational database, by sacrificing some relational database principles and offloading the processing to the client side code.\n",
    "\n",
    "## Features\n",
    "\n",
    "Following are a bunch of features of MongoDB. It provides all of these features without sacrificing speed.\n",
    "\n",
    "- Ease of use\n",
    "    MongoDB is a document based database.A document-oriented database replaces the concept of a \"row\" with a more flexible model, the \"document.\". Unlike rows, documents don't have a fixed structure so developer can add any key-value pair at a given time.\n",
    "\n",
    "- Easy Scaling\n",
    "    MongoDB was build with scalability in mind. The document driven model help a lot in horizontal scaling and MongoDB provides features such as sharding, replica etc out of the box.\n",
    "\n",
    "- Indexing\n",
    "    MongoDB supports generic secondary indexes, allowing a variety of fast queries, and provides unique, compound, geospatial, and full-text indexing capabilities as well.\n",
    "\n",
    "- Aggregation\n",
    "    MongoDB supports an \"aggregation pipeline\" that allows you to build complex aggregations from simple pieces and allow the database to optimize it.\n",
    "\n",
    "- Special collection types\n",
    "    MongoDB supports time-to-live collections for data that should expire at a certain time, such as sessions. It also supports fixed-size collections, which are useful for holding recent data, such as logs.\n",
    "\n",
    "- File storage\n",
    "    MongoDB supports an easy-to-use protocol for storing large files and file metadata.\n",
    "\n",
    "\n",
    "# Getting Started\n",
    "\n",
    "Here we go through the basics of MongoDB.\n",
    "\n",
    "## Installation\n",
    "\n",
    "MongoDB works by providing a service called as mongod. This service is provides all the database operations. All of the MongoDB client (eg: mongo shell) connect to this service and perform operations when required by the user.\n",
    "\n",
    "For installation on Ubuntu follow this guide.\n",
    "\n",
    "Config file of mongod is at ```/etc/mongod.conf```\n",
    "\n",
    "## Documents\n",
    "At the heart of MongoDB is the document: an ordered set of keys with associated values. An example of a document is as below."
   ]
  },
  {
   "cell_type": "code",
   "execution_count": null,
   "metadata": {
    "kernel": "typescript"
   },
   "outputs": [],
   "source": [
    "{\n",
    "    \"key1\": \"value1\",\n",
    "    \"key2\": 2,\n",
    "    \"key3\": [\"abc\", \"pqr\", 3]\n",
    "}"
   ]
  },
  {
   "cell_type": "markdown",
   "metadata": {
    "kernel": "typescript"
   },
   "source": [
    "Things to note.\n",
    "\n",
    "- Keys must not contain the character the null character. It is used to signify the end of a key.\n",
    "- Key name is case-sensitive, ```Key1``` and ```key1``` are different.\n",
    "- Key/value pairs in documents are ordered: ```{\"x\" : 1, \"y\" : 2}``` is not the same as {\"y\" : 2, \"x\" : 1} .\n",
    "\n",
    "## Collection\n",
    "\n",
    "A collection is a group of documents. If a document is the MongoDB analog of a row in a relational database, then a collection can be thought of as the analog to a table.\n",
    "\n",
    "Collections have dynamic schema's. This means that the documents within a single collection can have any number of different \"shapes\" For example, both of the following documents could be stored in a single collection:"
   ]
  },
  {
   "cell_type": "code",
   "execution_count": null,
   "metadata": {
    "kernel": "typescript"
   },
   "outputs": [],
   "source": [
    "{ \"key1\": \"value1\" }\n",
    "\n",
    "{ \"key2\": 2 }"
   ]
  },
  {
   "cell_type": "markdown",
   "metadata": {
    "kernel": "typescript"
   },
   "source": [
    "Things to note\n",
    "- One convention for organizing collections is to use namespaced sub collections separated by the ``.`` (dot) character. For example, an application containing a ```blog``` might have a collection named ```blog.posts``` and a separate collection named ```blog.authors```. This is for organizational purposes only-there is no relationship between the ```blog``` collection (it doesn't even have to exist) and its \"children\".\n",
    "\n",
    "## Database\n",
    "\n",
    "In addition to grouping documents by collection, MongoDB groups collections into databases. A single instance of MongoDB can host several databases, each grouping together zero or more collections. A database has its own permissions, and each database is stored in separate files on disk. A good rule of thumb is to store all data for a single application in the same database.\n",
    "\n",
    "Things to note\n",
    "- A database name cannot contain any of these characters: /, , ., \" , *, <, >, :, |, ?, \\$, (a single space), or the null character. Basically, stick with alphanumeric ASCII.\n",
    "- Database names are case-sensitive\n",
    "- Database names are limited to a maximum of 64 bytes.\n",
    "\n",
    "## Existing Database\n",
    "There are also several reserved database names, which you can access but which have special semantics. These are as follows:\n",
    "\n",
    "- ```admin```\n",
    "\n",
    "    This is the **root** database, in terms of authentication. If a user is added to the ```admin``` database, the user automatically inherits permissions for all databases. There are also certain server-wide commands that can be run only from the ```admin``` database, such as listing all of the databases or shutting down the server.\n",
    "\n",
    "- ```local```\n",
    "\n",
    "    This database will never be replicated and can be used to store any collections that should be local to a single server.\n",
    "\n",
    "- ```config```\n",
    "\n",
    "    When MongoDB is being used in a sharded setup , it uses the config database to store information about the shards.\n",
    "\n",
    "## Document Data Type\n",
    "Following data types for values are supported by mongodb.\n",
    "\n",
    "- **null**\n",
    "    \n",
    "    Null can be used to repesent both a null value and a nonexistent field."
   ]
  },
  {
   "cell_type": "code",
   "execution_count": null,
   "metadata": {
    "kernel": "typescript"
   },
   "outputs": [],
   "source": [
    "{ \"key1\":  null }"
   ]
  },
  {
   "cell_type": "markdown",
   "metadata": {
    "kernel": "typescript"
   },
   "source": [
    "- **boolean**\n",
    "\n",
    "    There is a boolean type, which can be used for the values true and false."
   ]
  },
  {
   "cell_type": "code",
   "execution_count": null,
   "metadata": {
    "kernel": "typescript"
   },
   "outputs": [],
   "source": [
    "{ \"key1\":  true }"
   ]
  },
  {
   "cell_type": "markdown",
   "metadata": {
    "kernel": "typescript"
   },
   "source": [
    "- **number**\n",
    "\n",
    "    The shell defaults to using 64-bit floating point numbers"
   ]
  },
  {
   "cell_type": "code",
   "execution_count": null,
   "metadata": {
    "kernel": "typescript"
   },
   "outputs": [],
   "source": [
    "{ \"key1\":  3.14 }\n",
    "\n",
    "//Or \n",
    "\n",
    "{ \"key1\":  3 }"
   ]
  },
  {
   "cell_type": "markdown",
   "metadata": {
    "kernel": "typescript"
   },
   "source": [
    "For integers, use the ```NumberInt``` or ```NumberLong``` classes, which represent 4-byte or 8-byte signed integers, respectively."
   ]
  },
  {
   "cell_type": "code",
   "execution_count": null,
   "metadata": {
    "kernel": "typescript"
   },
   "outputs": [],
   "source": [
    "{\"key1\" : NumberInt(\"3\")}\n",
    "\n",
    "{\"key1\" : NumberLong(\"3\")}"
   ]
  },
  {
   "cell_type": "markdown",
   "metadata": {
    "kernel": "typescript"
   },
   "source": [
    "- **string**\n",
    "\n",
    "    Any string of UTF-8 characters can be represented using the string type."
   ]
  },
  {
   "cell_type": "code",
   "execution_count": null,
   "metadata": {
    "kernel": "typescript"
   },
   "outputs": [],
   "source": [
    "{\"key1\" : \"foobar\"}"
   ]
  },
  {
   "cell_type": "markdown",
   "metadata": {
    "kernel": "typescript"
   },
   "source": [
    "- **date**\n",
    "\n",
    "    Dates are stored as milliseconds since the epoch. The time zone is not stored"
   ]
  },
  {
   "cell_type": "code",
   "execution_count": null,
   "metadata": {
    "kernel": "typescript"
   },
   "outputs": [],
   "source": [
    "{\"key1\" : new Date()}"
   ]
  },
  {
   "cell_type": "markdown",
   "metadata": {
    "kernel": "typescript"
   },
   "source": [
    "- **regular expression**\n",
    "\n",
    "    Queries can use regular expressions using JavaScript's regular expression syntax"
   ]
  },
  {
   "cell_type": "code",
   "execution_count": null,
   "metadata": {
    "kernel": "typescript"
   },
   "outputs": [],
   "source": [
    "{\"key1\" : /foobar/i}"
   ]
  },
  {
   "cell_type": "markdown",
   "metadata": {
    "kernel": "typescript"
   },
   "source": [
    "- **array**\n",
    "\n",
    "    Sets or lists of values can be represented as arrays"
   ]
  },
  {
   "cell_type": "code",
   "execution_count": null,
   "metadata": {
    "kernel": "typescript"
   },
   "outputs": [],
   "source": [
    "{\"key1\" : [\"a\", \"b\", \"c\"]}"
   ]
  },
  {
   "cell_type": "markdown",
   "metadata": {
    "kernel": "typescript"
   },
   "source": [
    "- **embedded document**\n",
    "\n",
    "    Documents can contain entire documents embedded as values in a parent document"
   ]
  },
  {
   "cell_type": "code",
   "execution_count": null,
   "metadata": {
    "kernel": "typescript"
   },
   "outputs": [],
   "source": [
    "{\"key1\" : {\"foo\" : \"bar\"}}"
   ]
  },
  {
   "cell_type": "markdown",
   "metadata": {
    "kernel": "typescript"
   },
   "source": [
    "- **object id**\n",
    "\n",
    "    An object id is a 12-byte ID for documents."
   ]
  },
  {
   "cell_type": "code",
   "execution_count": null,
   "metadata": {
    "kernel": "typescript"
   },
   "outputs": [],
   "source": [
    "{\"key1\" : ObjectId()}"
   ]
  },
  {
   "cell_type": "markdown",
   "metadata": {
    "kernel": "typescript"
   },
   "source": [
    "- **binary data**\n",
    "\n",
    "    Binary data is a string of arbitrary bytes. It cannot be manipulated from the shell. Binary data is the only way to save non-UTF-8 strings to the database.\n",
    "\n",
    "- **code**\n",
    "\n",
    "    Queries and documents can also contain arbitrary JavaScript code:"
   ]
  },
  {
   "cell_type": "code",
   "execution_count": null,
   "metadata": {
    "kernel": "typescript"
   },
   "outputs": [],
   "source": [
    "{\"key1\" : function() { /* ... */ }}"
   ]
  },
  {
   "cell_type": "markdown",
   "metadata": {
    "heading_collapsed": true,
    "kernel": "typescript"
   },
   "source": [
    "## _id and ObjectIds\n",
    "\n",
    "Every document stored in MongoDB must have an ```_id``` key. The ```_id``` key's value can be any type, but it defaults to an ObjectId . In a single collection, every document must have a unique value for ```_id``` , which ensures that every document in a collection can be uniquely identified.\n",
    "\n",
    "### ObjectIds\n",
    "The 12-byte ID generated by the function ObjectId has following format.\n",
    "\n",
    "![object_id_format](/static/img/notes/books/databases/mongo/objectid_format.png)\n",
    "\n",
    "- The first four bytes of an ObjectId are a timestamp in seconds since the epoch, this provides uniqueness at the granularity of a second.\n",
    "- Next three bytes of an ObjectId are a unique identifier of the machine on which it was generated. This is usually a hash of the machine's hostname.\n",
    "- To provide uniqueness among different processes generating ObjectId concurrently on a single machine, the next two bytes are taken from the process identifier (PID) of the ObjectId -generating process.\n",
    "- The last three bytes are simply an incrementing counter that is responsible for uniqueness within a second in a single process. This allows for up to $256^3= 16,777,261$ unique ObjectId to be generated per process in a single second.\n",
    "\n",
    "## Mongo Shell\n",
    "\n",
    "Mongo shell can be executed with ```mongo``` command. It is a javascript interpreter and provides some mongo specific functionality.\n",
    "\n",
    "There is usually a file present in the home folder name ```.mongorc``` which is loaded every time mongo shell is started. We can use this file to initialize some utility function or declare some global variables.\n",
    "\n",
    "# CUD of document\n",
    "\n",
    "MongoDB (MongoShell/Mongo Library) provides three methods to modify content of a document, namely ```insert()```, ```update()``` and ```remove()```.\n",
    "\n",
    "## Inserting documents\n",
    "A single document can be inserted into a collection by using the insert() method of that collection.\n",
    "\n",
    "For example to insert/create a user document in a user collection of ```blog``` database we could write the following code in mongoshell"
   ]
  },
  {
   "cell_type": "code",
   "execution_count": null,
   "metadata": {
    "hidden": true,
    "kernel": "typescript"
   },
   "outputs": [],
   "source": [
    "var user_data = {\n",
    "    \"first_name\": \"user1\",\n",
    "    \"last_name\": \"user1\",\n",
    "    \"age\": 10\n",
    "};\n",
    "\n",
    "use blog;\n",
    "// Here blog is name of our database. \n",
    "// This statment will select blog db if it exists or it will create one.\n",
    "// Note: use is not a valid javascript keyword, it is provided by mongo shell.\n",
    "\n",
    "db.users.insert(user_data); \n",
    "// Here we insert a document into users collection.\n",
    "// If users collection does not exists if will be created then document will be inserted. "
   ]
  },
  {
   "cell_type": "markdown",
   "metadata": {
    "hidden": true,
    "kernel": "typescript"
   },
   "source": [
    "To insert a bulk of document in an atomic way we can use ```batchInsert``` method, as follows."
   ]
  },
  {
   "cell_type": "code",
   "execution_count": null,
   "metadata": {
    "hidden": true,
    "kernel": "typescript"
   },
   "outputs": [],
   "source": [
    "var user_list = [\n",
    "    {\n",
    "        \"first_name\": \"user_1\";\n",
    "    },{\n",
    "        \"first_name\": \"user_2\";\n",
    "    },{\n",
    "        \"first_name\": \"user_3\";\n",
    "    }\n",
    "];\n",
    "\n",
    "db.users.batchInsert(user_list);"
   ]
  },
  {
   "cell_type": "markdown",
   "metadata": {
    "hidden": true,
    "kernel": "typescript"
   },
   "source": [
    "**NOTE:**\n",
    "\n",
    "If there are an invalid document in an array, then only the document before the invalid document will be inserted in the array and rest will be ignored. For example."
   ]
  },
  {
   "cell_type": "code",
   "execution_count": null,
   "metadata": {
    "hidden": true,
    "kernel": "typescript"
   },
   "outputs": [],
   "source": [
    "db.foo.batchInsert([{\"_id\" : 0}, {\"_id\" : 1}, {\"_id\" : 1}, {\"_id\" : 2}]) "
   ]
  },
  {
   "cell_type": "markdown",
   "metadata": {
    "hidden": true,
    "kernel": "typescript"
   },
   "source": [
    "For the above statement only document ```_id:0``` and ```_id:1``` will be created and scene the third document contain and error (Document with same id) the rest of the array will be ignored. To prevent this we can use the ```continueOnError``` option to continue after an insert failure.\n",
    "\n",
    "**NOTE:**\n",
    "\n",
    "MongoDB does minimal checks on data being inserted: it check's the document's basic structure and adds an ```_id``` field if one does not exist. One of the basic structure checks is size, all documents must be smaller than 16 MB. This is a somewhat arbitrary limit (and may be raised in the future); it is mostly to prevent bad schema design and ensure consistent performance.\n",
    "\n",
    "## Removing Document\n",
    "\n",
    "Document can be removed/deleted from the collection by using the remove method as follow."
   ]
  },
  {
   "cell_type": "code",
   "execution_count": null,
   "metadata": {
    "hidden": true,
    "kernel": "typescript"
   },
   "outputs": [],
   "source": [
    "db.users.remove({\"first_name\": \"user_1\"})\n",
    "//Remove a document from user collection matching the criteria \n",
    "\n",
    "db.user.remove()\n",
    "//Remove all document from collection.\n",
    "//Note: this operation is much slower than actually drop a collection and recreating it."
   ]
  },
  {
   "cell_type": "markdown",
   "metadata": {
    "kernel": "typescript"
   },
   "source": [
    "## Updating Document\n",
    "\n",
    "Document can be updated using the ```update()``` method. ```update()``` method takes two parameters: a query document, which locates documents to update, and a modifier document, which describes the changes to make to the documents found."
   ]
  },
  {
   "cell_type": "code",
   "execution_count": null,
   "metadata": {
    "kernel": "typescript"
   },
   "outputs": [],
   "source": [
    "db.users.update({\"first_name\": \"user_1\"}, {\"x\": \"y\"})\n",
    "\n",
    "//This method replaces the entire user_1 document with new document x,y.\n",
    "//Note: Update doesn't updates the document it replaces the entire content."
   ]
  },
  {
   "cell_type": "markdown",
   "metadata": {
    "kernel": "typescript"
   },
   "source": [
    "### Update Modifier\n",
    "Update modifiers are special keys that can be used to specify complex update operations, such as altering, adding, or removing keys, and even manipulating arrays and embedded documents. Following are the list of commonly used modifiers.\n",
    "\n",
    "#### ```$set```\n",
    "```$set``` sets the value of a field. If the field does not yet exist, it will be created. This is used to update a field in a document instead of replacing the entire document. $set can be used to update the value as well as the data type of the value. For example."
   ]
  },
  {
   "cell_type": "code",
   "execution_count": null,
   "metadata": {
    "kernel": "typescript"
   },
   "outputs": [],
   "source": [
    "db.users.update({\"_id\" : ObjectId(\"4b253b067525f35f94b60a31\")}, \n",
    "                    {\"$set\" : {\"favorite book\" : \"War and Peace\"}})\n",
    "// Add/Update \"favorite book\" key to user.\n",
    "\n",
    "db.users.update({\"_id\" : ObjectId(\"4b253b067525f35f94b60a31\")}, \n",
    "                    {\"$set\" : {\"favorite book\" :  [ \"War and Peace\", \"Calculus\"] }})\n",
    "// Update \"favorite book\" to an array "
   ]
  },
  {
   "cell_type": "markdown",
   "metadata": {
    "kernel": "typescript"
   },
   "source": [
    "#### ```$inc```\n",
    "The ```$inc``` modifier can be used to increment/decrement the value for an existing key or to create a new key if it does not already exist. For example"
   ]
  },
  {
   "cell_type": "code",
   "execution_count": null,
   "metadata": {
    "kernel": "typescript"
   },
   "outputs": [],
   "source": [
    "db.users.update({\"_id\" : ObjectId(\"4b253b067525f35f94b60a31\")}, {\"$inc\" : {\"age\" : 10}})\n",
    "// If age key exits it will be increment by 10.\n",
    "// If age key doesn't exists, $inc will add a age key and assign it value 10."
   ]
  },
  {
   "cell_type": "markdown",
   "metadata": {
    "kernel": "typescript"
   },
   "source": [
    "### Array Modifier\n",
    "\n",
    "#### ```$push```\n",
    "```$push``` adds elements to the end of an array if the array exists and creates a new array if it does not. For example."
   ]
  },
  {
   "cell_type": "code",
   "execution_count": null,
   "metadata": {
    "kernel": "typescript"
   },
   "outputs": [],
   "source": [
    "db.users.update({\"_id\" : ObjectId(\"4b253b067525f35f94b60a31\")}, {\"$push\" : {\"friends\" : { \"first_name\": \"friend 1\"}}})\n",
    "// If friends array exits then it will be append new document to it.\n",
    "// If friends array doesn't exists, $push will create a array with friends key and append new document to it."
   ]
  },
  {
   "cell_type": "markdown",
   "metadata": {
    "kernel": "typescript"
   },
   "source": [
    "This is the simple form of push, but you can use it for more complex array operations as well. You can push multiple values in one operation using the ```$each``` suboperator."
   ]
  },
  {
   "cell_type": "code",
   "execution_count": null,
   "metadata": {
    "kernel": "typescript"
   },
   "outputs": [],
   "source": [
    "db.stock.ticker.update({\"_id\" : \"GOOG\"}, {\"$push\" : {\"hourly\" : {\"$each\" : [562.776, 562.790, 559.123]}}})"
   ]
  },
  {
   "cell_type": "markdown",
   "metadata": {
    "kernel": "typescript"
   },
   "source": [
    "This would push three new elements onto the array.\n",
    "\n",
    "If we only want the array to grow to a certain length, you can also use the $slice operator in conjunction with ```$push``` to prevent an array from growing beyond a certain size, effectively making a top N list of items."
   ]
  },
  {
   "cell_type": "code",
   "execution_count": null,
   "metadata": {
    "kernel": "typescript"
   },
   "outputs": [],
   "source": [
    "db.movies.find({\"genre\" : \"horror\"},\n",
    "    {\"$push\" : {\"top10\" : {\n",
    "        \n",
    "        \"$each\" : [\"Nightmare on Elm Street\", \"Saw\"],\n",
    "        \n",
    "        \"$slice\" : -10}}})"
   ]
  },
  {
   "cell_type": "markdown",
   "metadata": {
    "kernel": "typescript"
   },
   "source": [
    "This example would limit the array to the last 10 elements pushed. Slices must always be negative numbers.\n",
    "\n",
    "Finally, you can ```$sort``` before trimming, so long as you are pushing subobjects onto the array"
   ]
  },
  {
   "cell_type": "code",
   "execution_count": null,
   "metadata": {
    "kernel": "typescript"
   },
   "outputs": [],
   "source": [
    "db.movies.find({\"genre\" : \"horror\"},\n",
    "    {\"$push\" : {\"top10\" : {\n",
    "\n",
    "        \"$each\" : [{\"name\" : \"Nightmare on Elm Street\", \"rating\" : 6.6}, {\"name\" : \"Saw\", \"rating\" : 4.3}],\n",
    "\n",
    "        \"$slice\" : -10,\n",
    "\n",
    "        \"$sort\" : {\"rating\" : -1}}}})"
   ]
  },
  {
   "cell_type": "markdown",
   "metadata": {
    "kernel": "typescript"
   },
   "source": [
    "This will sort all of the objects in the array by their rating field and then keep the first 10.\n",
    "\n",
    "We can also use array as a set, by using the modifier ```$addToSet.``` For example When adding another email address, we can use ```$addToSet``` to prevent duplicates"
   ]
  },
  {
   "cell_type": "code",
   "execution_count": null,
   "metadata": {
    "kernel": "typescript"
   },
   "outputs": [],
   "source": [
    "db.users.update({\"_id\" : ObjectId(\"4b2d75476cc613d5ee930164\")}, \n",
    "        {\"$addToSet\" : {\"emails\" : \"joe@gmail.com\"}})"
   ]
  },
  {
   "cell_type": "markdown",
   "metadata": {
    "kernel": "typescript"
   },
   "source": [
    "#### ```$pop```\n",
    "\n",
    "There are a few ways to remove elements from an array. If we want to treat the array like a queue or a stack, we can use ```$pop``` , which can remove elements from either end. ```{\"$pop\" : {\"key\" : 1}}``` removes an element from the end of the array. ```{\"$pop\" : {\"key\" : -1}}``` removes it from the beginning.\n",
    "\n",
    "For example, suppose we have a list of things that need to be done but not in any specific order"
   ]
  },
  {
   "cell_type": "code",
   "execution_count": null,
   "metadata": {
    "kernel": "typescript"
   },
   "outputs": [],
   "source": [
    "db.lists.insert({\"todo\" : [\"dishes\", \"laundry\", \"dry cleaning\"]})"
   ]
  },
  {
   "cell_type": "markdown",
   "metadata": {
    "kernel": "typescript"
   },
   "source": [
    "If we do the laundry first, we can remove it from the list with the following"
   ]
  },
  {
   "cell_type": "code",
   "execution_count": null,
   "metadata": {
    "kernel": "typescript"
   },
   "outputs": [],
   "source": [
    "db.lists.update({}, {\"$pull\" : {\"todo\" : \"laundry\"}})"
   ]
  },
  {
   "cell_type": "markdown",
   "metadata": {
    "kernel": "typescript"
   },
   "source": [
    "## Changing size of document\n",
    "\n",
    "When you start inserting documents into MongoDB, it puts each document right next to the previous one on disk. Thus, if a document gets bigger, it will no longer fit in the space it was originally written to and will be moved to another part of the collection. We can see this from example."
   ]
  },
  {
   "cell_type": "code",
   "execution_count": null,
   "metadata": {
    "kernel": "typescript"
   },
   "outputs": [],
   "source": [
    "b.coll.insert({\"x\" :\"a\"})\n",
    "db.coll.insert({\"x\" :\"b\"})\n",
    "db.coll.insert({\"x\" :\"c\"})\n",
    "db.coll.find();\n",
    "\n",
    "// \"_id\" : ObjectId(\"507c3581d87d6a342e1c81d3\"), \"x\" : \"a\" }\n",
    "// \"_id\" : ObjectId(\"507c3583d87d6a342e1c81d4\"), \"x\" :\"b\" }\n",
    "// \"_id\" : ObjectId(\"507c3585d87d6a342e1c81d5\"), \"x\" : \"c\" }\n",
    "\n",
    "db.coll.update({\"x\" : \"b\"}, {$set: {\"x\" : \"bbb\"}})\n",
    "db.coll.find()\n",
    "\n",
    "// \"_id\" : ObjectId(\"507c3581d87d6a342e1c81d3\"), \"x\" : \"a\" }\n",
    "// \"_id\" : ObjectId(\"507c3585d87d6a342e1c81d5\"), \"x\" : \"c\" }\n",
    "// \"_id\" : ObjectId(\"507c3583d87d6a342e1c81d4\"), \"x\" :\"bbb\" }"
   ]
  },
  {
   "cell_type": "markdown",
   "metadata": {
    "kernel": "typescript"
   },
   "source": [
    "We can see this in action by creating a new collection with just a few documents and then making a document that is sandwiched between two other documents larger. It will be bumped to the end of the collection.\n",
    "\n",
    "When MongoDB has to move a document, it bumps the collection's padding factor, which is the amount of extra space MongoDB leaves around new documents to give them room to grow. You can see the padding factor by running ```db.coll.stats()```. Before doing the update above, the \"paddingFactor\" field will be 1: allocate exactly the size of the document for each new document, as shown in Figure below.\n",
    "\n",
    "![doc_size_1](/static/img/notes/books/databases/mongo/doc_size_1.png)\n",
    "\n",
    "If you run it again after making one of the documents larger (as shown in Figure 3-2), you'll see that it has grown to around 1.5, each new document will be given half of its size in free space to grow.\n",
    "\n",
    "![doc_size_2](/static/img/notes/books/databases/mongo/doc_size_2.png)\n",
    "\n",
    "If subsequent updates cause more moves, the padding factor will continue to grow (although not as dramatically as it did on the first move). If there aren't more moves, the padding factor will slowly go down.\n",
    "\n",
    "![doc_size_3](/static/img/notes/books/databases/mongo/doc_size_3.png)\n",
    "\n",
    "## Upserts\n",
    "\n",
    "An upsert is a special type of update. If no document is found that matches the update criteria, a new document will be created by combining the criteria and updated documents. If a matching document is found, it will be updated normally."
   ]
  },
  {
   "cell_type": "code",
   "execution_count": null,
   "metadata": {
    "kernel": "typescript"
   },
   "outputs": [],
   "source": [
    "db.analytics.update({\"url\" : \"/blog\"}, {\"$inc\" : {\"pageviews\" : 1}}, true)"
   ]
  },
  {
   "cell_type": "markdown",
   "metadata": {
    "kernel": "typescript"
   },
   "source": [
    "This code create a document is it doesn't exists, and if it exists then it will update the document.\n",
    "\n",
    "## Updating Multiple documents\n",
    "\n",
    "Updates, by default, update only the first document found that matches the criteria. If there are more matching documents, they will remain unchanged. To modify all of the documents matching the criteria, you can pass true as the fourth parameter to update."
   ]
  },
  {
   "cell_type": "code",
   "execution_count": null,
   "metadata": {
    "kernel": "typescript"
   },
   "outputs": [],
   "source": [
    "db.users.update({\"birthday\" : \"10/13/1978\"},\n",
    "                {\"$set\" : {\"gift\" : \"Happy Birthday!\"}}, false, true)"
   ]
  },
  {
   "cell_type": "markdown",
   "metadata": {
    "kernel": "typescript"
   },
   "source": [
    "# Reading Documents.\n",
    "\n",
    "Mongo provides a ```find()``` method to perform queries in MongoDB. Example are given below."
   ]
  },
  {
   "cell_type": "code",
   "execution_count": null,
   "metadata": {
    "kernel": "typescript"
   },
   "outputs": [],
   "source": [
    "db.users.find({\"age\" : 27})\n",
    "// Find user with age 27\n",
    "\n",
    "db.users.find({\"age\" : 27}, {\"username\" : 1, \"email\" : 1})\n",
    "// Specify which keys to return, return only username and email"
   ]
  },
  {
   "cell_type": "markdown",
   "metadata": {
    "kernel": "typescript"
   },
   "source": [
    "## Query Criteria\n",
    "\n",
    "### Query Conditionals\n",
    "```$lt``` , ```$lte``` , ```$gt``` , and ```$gte``` are all comparison operators, corresponding to ```<, <=, >,``` and ```>=``` respectively. They can be combined to look for a range of values. For example, to look for users who are between the ages of 18 and 30, we can do this"
   ]
  },
  {
   "cell_type": "code",
   "execution_count": null,
   "metadata": {
    "kernel": "typescript"
   },
   "outputs": [],
   "source": [
    "db.users.find({\"age\" : {\"$gte\" : 18, \"$lte\" : 30}})"
   ]
  },
  {
   "cell_type": "markdown",
   "metadata": {
    "kernel": "typescript"
   },
   "source": [
    "### OR Queries\n",
    "\n",
    "There are two ways to do an OR query in MongoDB. ```$in``` can be used to query for a variety of values for a single key. ```$or``` is more general; it can be used to query for any of the given values across multiple keys. For example,"
   ]
  },
  {
   "cell_type": "code",
   "execution_count": null,
   "metadata": {
    "kernel": "typescript"
   },
   "outputs": [],
   "source": [
    "db.raffle.find({\"ticket_no\" : {\"$in\" : [725, 542, 390]}})\n",
    "\n",
    "db.raffle.find({\"$or\" : [{\"ticket_no\" : 725}, {\"winner\" : true}]})\n",
    "\n",
    "\n",
    "db.raffle.find({\"$or\" : [{\"ticket_no\" : {\"$in\" : [725, 542, 390]}},\n",
    "                        {\"winner\" : true}]})"
   ]
  },
  {
   "cell_type": "markdown",
   "metadata": {
    "kernel": "typescript"
   },
   "source": [
    "### ```$not```\n",
    "```$not``` is a metaconditional: it can be applied on top of any other criteria. If we want, to return users with id_num's of 2, 3, 4, 5, 7, 8, 9, 10, 12, etc., we can use ```$not```"
   ]
  },
  {
   "cell_type": "code",
   "execution_count": null,
   "metadata": {
    "kernel": "typescript"
   },
   "outputs": [],
   "source": [
    "db.users.find({\"id_num\" : {\"$not\" : {\"$mod\" : [5, 1]}}})"
   ]
  },
  {
   "cell_type": "markdown",
   "metadata": {
    "kernel": "typescript"
   },
   "source": [
    "## Querying Arrays\n",
    "\n",
    "If you need to match arrays by more than one element, you can use ```$all```."
   ]
  },
  {
   "cell_type": "code",
   "execution_count": null,
   "metadata": {
    "kernel": "typescript"
   },
   "outputs": [],
   "source": [
    "db.food.insert({\"_id\" : 1, \"fruit\" : [\"apple\", \"banana\", \"peach\"]})\n",
    "db.food.insert({\"_id\" : 2, \"fruit\" : [\"apple\", \"kumquat\", \"orange\"]})\n",
    "db.food.insert({\"_id\" : 3, \"fruit\" : [\"cherry\", \"banana\", \"apple\"]})\n",
    "\n",
    "db.food.find({fruit : {$all : [\"apple\", \"banana\"]}})\n",
    "// {\"_id\" : 1, \"fruit\" : [\"apple\", \"banana\", \"peach\"]}\n",
    "// {\"_id\" : 3, \"fruit\" : [\"cherry\", \"banana\", \"apple\"]}"
   ]
  },
  {
   "cell_type": "markdown",
   "metadata": {
    "kernel": "typescript"
   },
   "source": [
    "A useful conditional for querying arrays is ```$size``` , which allows you to query for arrays of a given size."
   ]
  },
  {
   "cell_type": "code",
   "execution_count": null,
   "metadata": {
    "kernel": "typescript"
   },
   "outputs": [],
   "source": [
    "db.food.find({\"fruit\" : {\"$size\" : 3}})"
   ]
  },
  {
   "cell_type": "markdown",
   "metadata": {
    "kernel": "typescript"
   },
   "source": [
    "```$slice``` operator can be used to return a subset of elements for an array key"
   ]
  },
  {
   "cell_type": "code",
   "execution_count": null,
   "metadata": {
    "kernel": "typescript"
   },
   "outputs": [],
   "source": [
    "db.blog.posts.findOne(criteria, {\"comments\" : {\"$slice\" : 10}})\n",
    "// Return first 10 comments\n",
    "\n",
    "db.blog.posts.findOne(criteria, {\"comments\" : {\"$slice\" : -10}})\n",
    "// Return last 10 comments\n",
    "\n",
    "db.blog.posts.findOne(criteria, {\"comments\" : {\"$slice\" : [23, 10]}})\n",
    "// skip the first 23 elements and return the 24th through 33th"
   ]
  },
  {
   "cell_type": "markdown",
   "metadata": {
    "kernel": "typescript"
   },
   "source": [
    "## Querying on Embedded Documents\n",
    "\n",
    "We can query the embeded document by using the ```.``` (dot) syntax. For example."
   ]
  },
  {
   "cell_type": "code",
   "execution_count": null,
   "metadata": {
    "kernel": "typescript"
   },
   "outputs": [],
   "source": [
    "/*\n",
    "{\n",
    "    \"name\" : {\n",
    "        \"first\" : \"Joe\",\n",
    "        \"last\" : \"Schmoe\"\n",
    "    },\n",
    "    \"age\" : 45\n",
    "}\n",
    "*/\n",
    "\n",
    "db.people.find({\"name.first\" : \"Joe\", \"name.last\" : \"Schmoe\"})"
   ]
  },
  {
   "cell_type": "markdown",
   "metadata": {
    "kernel": "typescript"
   },
   "source": [
    "## ```$where``` Queries\n",
    "\n",
    "For queries that cannot be done any other way, there are ```$where``` clauses, which allow you to execute arbitrary JavaScript as part of your query. This allows you to do (almost) anything within a query."
   ]
  },
  {
   "cell_type": "code",
   "execution_count": null,
   "metadata": {
    "kernel": "typescript"
   },
   "outputs": [],
   "source": [
    "db.foo.find({\"$where\" : function () {\n",
    "        if(this['key'] == 'value'){\n",
    "            return true;\n",
    "        }else{\n",
    "            return false;\n",
    "        }\n",
    "\n",
    "    }});"
   ]
  },
  {
   "cell_type": "markdown",
   "metadata": {
    "kernel": "typescript"
   },
   "source": [
    "## Cursors\n",
    "\n",
    "The database returns results from find using a cursor. The client-side implementations of cursors generally allow you to control a great deal about the eventual output of a query. You can limit the number of results, skip over some number of results, sort results by any combination of keys in any direction, and perform a number of other powerful operations.\n",
    "\n",
    "If we assign the result of ```find()``` to a variable, it is stored in a form of a cursor which only request a particularly amount of data, mostly 4MB at a time.\n",
    "\n",
    "## Database Commands\n",
    "\n",
    "There is one very special type of query called a database command. Database commands do \"everything else\", from administrative tasks like shutting down the server and cloning databases to counting documents in a collection and performing aggregations."
   ]
  },
  {
   "cell_type": "code",
   "execution_count": null,
   "metadata": {
    "kernel": "typescript"
   },
   "outputs": [],
   "source": [
    "db.runCommand({\"drop\" : \"test\"});\n",
    "// dropping a collection is done via the \" drop \" database command\n",
    "\n",
    "db.test.drop()\n",
    "// The shell helper, which wraps the command and provides a simpler interface"
   ]
  },
  {
   "cell_type": "markdown",
   "metadata": {
    "kernel": "typescript"
   },
   "source": [
    "### How Commands Work\n",
    "\n",
    "A database command always returns a document containing the key ```ok``` . If ```ok``` is ```1``` , the command was successful; and if it is 0 , the command failed for some reason. If ```ok``` is ```0``` then an additional key will be present, ```errmsg``` . The value of ```errmsg``` is a string explaining why the command failed.\n",
    "\n",
    "Commands in MongoDB are implemented as a special type of query that gets performed on the ```$cmd``` collection. When the MongoDB server gets a query on the ```$cmd``` collection, it handles it using special logic, rather than the normal code for handling queries.\n",
    "\n",
    "# Special Collection and Index Types\n",
    "\n",
    "## Explain function\n",
    "\n",
    "Mongo shell has an ```explain()``` method, to see more internal information about a query."
   ]
  },
  {
   "cell_type": "code",
   "execution_count": null,
   "metadata": {
    "kernel": "typescript"
   },
   "outputs": [],
   "source": [
    "db.users.find({\"age\" : 42}).explain()\n",
    "\n",
    "// Output: \n",
    "//\n",
    "// {\n",
    "//   \"cursor\": \"BtreeCursor age_1_username_1\",\n",
    "//   \"isMultiKey\": false,\n",
    "//   \"n\": 8332,\n",
    "//   \"nscannedObjects\": 8332,\n",
    "//   \"nscanned\": 8332,\n",
    "//   \"nscannedObjectsAllPlans\": 8332,\n",
    "//   \"nscannedAllPlans\": 8332,\n",
    "//   \"scanAndOrder\": false,\n",
    "//   \"indexOnly\": false,\n",
    "//   \"nYields\": 0,\n",
    "//   \"nChunkSkips\": 0,\n",
    "//   \"millis\": 91,\n",
    "//   \"indexBounds\": {\n",
    "//     \"age\": [\n",
    "//       [\n",
    "//         42,\n",
    "//         42\n",
    "//       ]\n",
    "//     ],\n",
    "//     \"username\": [\n",
    "//       [\n",
    "//         {\n",
    "//           \"$minElement\": 1\n",
    "//         },\n",
    "//         {\n",
    "//           \"$maxElement\": 1\n",
    "//         }\n",
    "//       ]\n",
    "//     ]\n",
    "//   },\n",
    "//   \"server\": \"ubuntu:27017\"\n",
    "// }"
   ]
  },
  {
   "cell_type": "markdown",
   "metadata": {
    "kernel": "typescript"
   },
   "source": [
    "Here we get following information.\n",
    "\n",
    "- **\"cursor\" : \"BtreeCursor age_1_username_1\"**\n",
    "\n",
    "    BtreeCursor means that an index was used, specifically, the index on age and username: {\"age\" : 1, \"username\" : 1}. For no index query it is \"BasicCursor\".\n",
    "\n",
    "\n",
    "- **\"isMultiKey\" : false**\n",
    "\n",
    "    If this query used a multikey index\n",
    "\n",
    "\n",
    "- **\"n\" : 8332**\n",
    "\n",
    "    Number of documents returned by the query.\n",
    "\n",
    "\n",
    "- **\"nscannedObjects\" : 8332**\n",
    "\n",
    "    This is a count of the number of times MongoDB had to follow an index pointer to the actual document on disk. If the query contains criteria that is not part of the index or requests fields back that aren't contained in the index, MongoDB must look up the document each index entry points to.\n",
    "\n",
    "\n",
    "- **\"nscanned\" : 8332**\n",
    "\n",
    "    The number of index entries looked at if an index was used. If this was a table scan, it is the number of documents examined.\n",
    "\n",
    "\n",
    "- **\"scanAndOrder\" : false**\n",
    "\n",
    "    If MongoDB had to sort results in memory.\n",
    "\n",
    "\n",
    "- **\"indexOnly\" : false**\n",
    "\n",
    "    If MongoDB was able to fulfill this query using only the index entries. In this example, MongoDB found all matching documents using the index, which we know because \"nscanned\" is the same as \"n\" . However, the query was told to return every field in the matching documents and the index only contained the \"age\" and \"username\" fields. If we changed the query to have a second argument, {\"_id\" : 0, \"age\" : 1, \"username\" : 1} , then it would be covered by the index and \"indexOnly\" would be true .\n",
    "\n",
    "\n",
    "- **\"nYields\": 0**\n",
    "\n",
    "    The number of times this query yielded (paused) to allow a write request to proceed. If there are writes waiting to go, queries will periodically release their lock and allow them to do so.\n",
    "\n",
    "\n",
    "- **\"millis\" : 91**\n",
    "\n",
    "    The number of milliseconds it took the database to execute the query.\n",
    "\n",
    "\n",
    "- **\"indexBounds\" : {…}**\n",
    "\n",
    "    This field describes how the index was used, giving ranges of the index traversed. As the first clause in the query was an exact match, the index only needed to look at that value: 42. The second index key was a free variable, as the query didn't specify any restrictions to it\n",
    "    \n",
    "## Index\n",
    "\n",
    "MongoDB has the same concept of index as the relational database. Index generally form a B-Tree on the key that is being indexed. Then mongodb uses the index when querying the document for that given key. A query that does not use an index is called a table scan (a term inherited from relational databases), which means that the server has to \"look through the whole collection\" to find a query's results. \n",
    "\n",
    "Index can be created using following method."
   ]
  },
  {
   "cell_type": "code",
   "execution_count": null,
   "metadata": {
    "kernel": "typescript"
   },
   "outputs": [],
   "source": [
    "db.users.ensureIndex({\"username\" : 1})"
   ]
  },
  {
   "cell_type": "markdown",
   "metadata": {
    "kernel": "typescript"
   },
   "source": [
    "### Unique Index\n",
    "\n",
    "Unique indexes guarantee that each value will appear at most once in the index. For example, if we want to make sure no two documents can have the same value in the \"username\" key, we can create a unique index."
   ]
  },
  {
   "cell_type": "code",
   "execution_count": null,
   "metadata": {
    "kernel": "typescript"
   },
   "outputs": [],
   "source": [
    "db.users.ensureIndex({\"username\" : 1}, {\"unique\" : true})"
   ]
  },
  {
   "cell_type": "markdown",
   "metadata": {
    "kernel": "typescript"
   },
   "source": [
    "**NOTE:**\n",
    "\n",
    "Unique indexes count null as a value, so we cannot have a unique index with more than one document missing the key.\n",
    "\n",
    "### Sparse Indexes\n",
    "\n",
    "As mentioned in an earlier section, unique indexes count null as a value, so we cannot have a unique index with more than one document missing the key. However, there are lots of cases where we may want the unique index to be enforced only if the key exists. If we have a field that may or may not exist but must be unique when it does, we can combine the unique option with the sparse option."
   ]
  },
  {
   "cell_type": "code",
   "execution_count": null,
   "metadata": {
    "kernel": "typescript"
   },
   "outputs": [],
   "source": [
    "db.ensureIndex({\"email\" : 1}, {\"unique\" : true, \"sparse\" : true})"
   ]
  },
  {
   "cell_type": "markdown",
   "metadata": {
    "kernel": "typescript"
   },
   "source": [
    "## Capped Collections\n",
    "\n",
    "Normal collections in MongoDB are created dynamically and automatically grow in size to fit additional data. MongoDB also supports a different type of collection, called a capped collection, which is created in advance and is fixed in size. Capped collections behave like circular queues, if we're out of space, the oldest document will be deleted, and the new one will take its place.\n",
    "\n",
    "Certain operations are not allowed on capped collections. Documents cannot be removed or deleted (aside from the automatic age-out described earlier), and updates that would cause documents to grow in size are disallowed. By preventing these two operations, we guarantee that documents in a capped collection are stored in insertion order and that there is no need to maintain a free list for space from removed documents.\n",
    "\n",
    "To create a capped collection we can do the following."
   ]
  },
  {
   "cell_type": "code",
   "execution_count": null,
   "metadata": {
    "kernel": "typescript"
   },
   "outputs": [],
   "source": [
    "db.createCollection(\"my_collection2\", {\"capped\" : true, \"size\" : 100000, \"max\" : 100})\n",
    "\n",
    "// Where size (required): Size in bytes for the collection.\n",
    "// max (optional): Max number of documents."
   ]
  },
  {
   "cell_type": "markdown",
   "metadata": {
    "kernel": "typescript"
   },
   "source": [
    "## Tailable Cursors\n",
    "\n",
    "Tailable cursors are a special type of cursor that are not closed when their results are exhausted. They were inspired by the tail -f command and, similar to the command, will continue fetching output for as long as possible. Because the cursors do not die when they run out of results, they can continue to fetch new results as documents are added to the collection. Tailable cursors can be used only on capped collections, since insert order is not tracked for normal collections.\n",
    "\n",
    "Tailable cursors are often used for processing documents as they are inserted onto a \"work queue\" (the capped collection). Because tailable cursors will time out after 10 minutes of no results, it is important to include logic to re-query the collection if they die.\n",
    "\n",
    "## Time-To-Live Indexes\n",
    "\n",
    "Time-to-live (TTL) indexes allows us to set a timeout for each document. When a document reaches a preconfigured age, it will be deleted. This type of index is useful for caching problems like session storage.\n",
    "\n",
    "## Full-Text Indexes\n",
    "\n",
    "MongoDB has a special type of index for searching for text within documents. We can query for strings using exact matches and regular expressions, but these techniques have some limitations. Searching a large block of text for a regular expression is slow and it's tough to take linguistic issues into account (e.g., that \"entry\" should match \"entries\"). Full-text indexes give us the ability to search text quickly, as well as provide built-in support for multi-language stemming and stop words.\n",
    "\n",
    "For example."
   ]
  },
  {
   "cell_type": "code",
   "execution_count": null,
   "metadata": {
    "kernel": "typescript"
   },
   "outputs": [],
   "source": [
    "db.hn.ensureIndex({\"title\" : \"text\"})\n",
    "// To run a search over the text, we first need to create a \"text\" index\n",
    "\n",
    "db.runCommand({\"text\" : \"hn\", \"search\" : \"ask hn\"})\n",
    "// This will match titles like \"Ask Hn\", \"Show Hn\""
   ]
  },
  {
   "cell_type": "markdown",
   "metadata": {
    "kernel": "typescript"
   },
   "source": [
    "## Geospatial Indexing\n",
    "\n",
    "MongoDB has a few types of geospatial indexes. The most commonly used ones are ```2dsphere``` , for surface-of-the-earth-type maps, and 2d , for flat maps (and time series data).\n",
    "\n",
    "```2dsphere``` allows us to specify points, lines, and polygons in ```GeoJSON``` format. A point is given by a two-element array, representing ```[ longitude , latitude ]```. For example,"
   ]
  },
  {
   "cell_type": "code",
   "execution_count": null,
   "metadata": {
    "kernel": "typescript"
   },
   "outputs": [],
   "source": [
    "{\n",
    "    \"name\" : \"New York City\",\n",
    "    \"loc\" : {\n",
    "        \"type\" : \"Point\",\n",
    "        \"coordinates\" : [50, 2]\n",
    "    }\n",
    "}"
   ]
  },
  {
   "cell_type": "markdown",
   "metadata": {
    "kernel": "typescript"
   },
   "source": [
    "# GridFS\n",
    "\n",
    "GridFS is a mechanism for storing large binary files in MongoDB.\n",
    "\n",
    "**Advantage of GridFS**.\n",
    "\n",
    "- Using GridFS can simplify our stack. If we are already using MongoDB, we might be able to use GridFS instead of a separate tool for file storage.\n",
    "\n",
    "- GridFS will leverage any existing replication or autosharding that we've set up for MongoDB, so getting failover and scale-out for file storage is easier.\n",
    "\n",
    "- GridFS can alleviate some of the issues that certain filesystems can exhibit when being used to store user uploads. For example, GridFS does not have issues with storing large numbers of files in the same directory.\n",
    "\n",
    "- We can get great disk locality with GridFS, because MongoDB allocates data files in 2 GB chunks.\n",
    "\n",
    "**Disadvantage of GridFS**.\n",
    "\n",
    "- Slower performance: accessing files from MongoDB will not be as fast as going directly through the filesystem.\n",
    "\n",
    "- We can only modify documents by deleting them and resaving the whole thing. MongoDB stores files as multiple documents so it cannot lock all of the chunks in a file at the same time.\n",
    "\n",
    "## Working With GridFS\n",
    "\n",
    "GridFS generally provides following method, list (List all files), delete (Delete a specific file), search (Search for a file), put (Add a file from filesystem), get (Save file from GridFS to filesystem).\n",
    "\n",
    "## Under the hood.\n",
    "\n",
    "GridFS is a lightweight specification for storing files that is built on top of normal MongoDB documents. The MongoDB server actually does almost nothing to “special-case” the handling of GridFS requests; all the work is handled by the client-side drivers and tools.\n",
    "\n",
    "The basic idea behind GridFS is that we can store large files by splitting them up into chunks and storing each chunk as a separate document. Because MongoDB supports storing binary data in documents, we can keep storage overhead for chunks to a minimum. In addition to storing each chunk of a file, we store a single document that groups the chunks together and contains metadata about the file.\n",
    "\n",
    "The chunks for GridFS are stored in their own collection. By default chunks will use the collection ```fs.chunks```, but this can be overridden. Within the chunks collection the structure of the individual documents is pretty simple."
   ]
  },
  {
   "cell_type": "code",
   "execution_count": null,
   "metadata": {
    "kernel": "typescript"
   },
   "outputs": [],
   "source": [
    "{\n",
    "    \"_id\" : ObjectId(\"...\"),\n",
    "    \"n\" : 0,\n",
    "    \"data\" : BinData(\"...\"),\n",
    "    \"files_id\" : ObjectId(\"...\")\n",
    "}"
   ]
  },
  {
   "cell_type": "markdown",
   "metadata": {
    "kernel": "typescript"
   },
   "source": [
    "Where,\n",
    "\n",
    "- ```files_id``\n",
    "\n",
    "    The ```_id``` of the file document that contains the metadata for this chunk.\n",
    "\n",
    "\n",
    "- ```n```\n",
    "\n",
    "    The chunk's position in the file, relative to the other chunks.\n",
    "\n",
    "\n",
    "- ```data```\n",
    "\n",
    "    The bytes in this chunk of the file.\n",
    "   \n",
    "The metadata for each file is stored in a separate collection, which defaults to ```fs.files```. With following keys.\n",
    "\n",
    "- ```_id```\n",
    "\n",
    "    A unique id for the file—this is what will be stored in each chunk as the value for the “files_id” key.\n",
    "\n",
    "\n",
    "- ```length```\n",
    "\n",
    "    The total number of bytes making up the content of the file.\n",
    "\n",
    "\n",
    "- ```chunkSize```\n",
    "\n",
    "    The size of each chunk comprising the file, in bytes. The default is 256K, but this can be adjusted if needed.\n",
    "\n",
    "\n",
    "- ```uploadDate```\n",
    "\n",
    "    A timestamp representing when this file was stored in GridFS.\n",
    "\n",
    "\n",
    "- ```md5```\n",
    "\n",
    "    An md5 checksum of this file’s contents, generated on the server side.\n",
    "\n",
    "# References\n",
    "\n",
    "- MongoDB: The definitive Guide, Kristina Chodorow ((link)[http://shop.oreilly.com/product/0636920028031.do])"
   ]
  },
  {
   "cell_type": "code",
   "execution_count": null,
   "metadata": {
    "kernel": "typescript"
   },
   "outputs": [],
   "source": []
  }
 ],
 "metadata": {
  "kernelspec": {
   "display_name": "SoS",
   "language": "sos",
   "name": "sos"
  },
  "language_info": {
   "codemirror_mode": "sos",
   "file_extension": ".sos",
   "mimetype": "text/x-sos",
   "name": "sos",
   "nbconvert_exporter": "sos_notebook.converter.SoS_Exporter",
   "pygments_lexer": "sos"
  },
  "note_info": {
   "description": "Notes for the book MongoDB: The definitive Guide by Kristina Chodorow ",
   "image": "static/img/notes/books/databases/mongo/logo.jpg",
   "slug": "mongo-db-the-definitive-guide",
   "title": "MongoDB: The Definitive Guide"
  },
  "sos": {
   "kernels": [
    [
     "typescript",
     "typescript",
     "typescript",
     "",
     ""
    ]
   ],
   "panel": {
    "displayed": true,
    "height": 0
   },
   "version": "0.19.1"
  },
  "toc": {
   "base_numbering": 1,
   "nav_menu": {},
   "number_sections": true,
   "sideBar": true,
   "skip_h1_title": false,
   "title_cell": "Table of Contents",
   "title_sidebar": "Contents",
   "toc_cell": false,
   "toc_position": {},
   "toc_section_display": true,
   "toc_window_display": false
  }
 },
 "nbformat": 4,
 "nbformat_minor": 2
}
