{
 "cells": [
  {
   "cell_type": "markdown",
   "metadata": {
    "kernel": "SoS"
   },
   "source": [
    "# Introduction\n",
    "\n",
    "Typescript is a superset of javascript created by Microsoft. Typescript is a transcompiled language, which means typescript code is trans compiled (like babel) to javascript by typescript compiler.\n",
    "\n",
    "## Feature of typescript\n",
    "\n",
    "### Types\n",
    "\n",
    "Typescript provides type checking feature to javascript which is a dynamic. Typescript supports following types.\n",
    "\n",
    "- boolean\n",
    "- number\n",
    "- string\n",
    "- Array\n",
    "- Object\n",
    "- enum\n",
    "- any\n",
    "- void\n",
    "- undefined\n",
    "\n",
    "### Interfaces\n",
    "\n",
    "An interface is a way to define a contract on a function with respect to the arguments and their type. Typescript interfaces are similar to that of java, where interface are used to defined the structure of any object/class. But the only difference between typescript interfaces and java interfaces is that, in java you have to specifically implement the interface but typescript follows a duck typing approach to interface. If any object/class has the properties defined by the interface then it is a valid value of the interface.\n",
    "\n",
    "### Decorators\n",
    "\n",
    "Decorators are functions that are invoked with a prefixed @ symbol, and immediately followed by a class parameter, method or property. The decorator function is supplied information about the class, parameter or method, and the decorator function returns something in its place, or manipulates its target in some way. Typically the “something” a decorator returns is the same thing that was passed in, but it has been augmented in some way. You can think them as same as python Decorators.\n",
    "\n",
    "## Typescript Compiler\n",
    "\n",
    "Generally transpiler for javascript follow this follow for converting new code to javascript\n",
    "\n",
    "    ```Tokenizer -> AST -> Emitter -> Javascript```\n",
    "    \n",
    "But typescript tanspiler added two new steps to the process after AST.\n",
    "\n",
    "    ```Tokenizer -> AST -> Binder -> Checker -> Emitter -> Javascript```\n",
    "\n",
    "The significance of each module is explained as below.\n",
    "\n",
    "The TypeScript compiler source is located under the src/compiler folder.\n",
    "\n",
    "It is split into the follow key parts:\n",
    "\n",
    "- **Scanner (scanner.ts)**: Tokenizer, responsible for generating token form ts source file.\n",
    "- **Parser (parser.ts)**: Uses token from scanner to build a AST (Abstract syntax tree)\n",
    "- **Binder (binder.ts)**: Binder converts AST nodes to Symbols (internal representation of declaration)\n",
    "- **Checker (checker.ts)**: Checker is where typescript does the type checking of symbols.\n",
    "- **Emitter (emitter.ts)**: Final state where javascript is emitted for the generated AST.\n",
    "\n",
    "# Types\n",
    "\n",
    "As the name Typescript suggest, typescript has multiple types available to be used in programing which would help in preventing common gotcha in javascript. Following are list of types supported by typescript.\n",
    "\n",
    "## Boolean\n",
    "\n",
    "The most basic datatype is the simple true/false value, which JavaScript and TypeScript call a boolean value."
   ]
  },
  {
   "cell_type": "code",
   "execution_count": null,
   "metadata": {
    "kernel": "typescript"
   },
   "outputs": [],
   "source": [
    "let isDone: boolean = false;"
   ]
  },
  {
   "cell_type": "markdown",
   "metadata": {
    "kernel": "typescript"
   },
   "source": [
    "## Number\n",
    "\n",
    "As in JavaScript, all numbers in TypeScript are floating point values. In addition to hexadecimal and decimal literals, TypeScript also supports binary and octal literals."
   ]
  },
  {
   "cell_type": "code",
   "execution_count": null,
   "metadata": {
    "kernel": "typescript"
   },
   "outputs": [],
   "source": [
    "let decimal: number = 6.2;\n",
    "let hex: number = 0xf00d;\n",
    "let binary: number = 0b1010;\n",
    "let octal: number = 0o744;"
   ]
  },
  {
   "cell_type": "markdown",
   "metadata": {
    "kernel": "typescript"
   },
   "source": [
    "## String\n",
    "\n",
    "As in other languages, we use the type string to refer to these textual datatypes. Just like JavaScript TypeScript also uses double quotes (\") or single quotes (’) to surround string data."
   ]
  },
  {
   "cell_type": "code",
   "execution_count": null,
   "metadata": {
    "kernel": "typescript"
   },
   "outputs": [],
   "source": [
    "let color: string = \"blue\";\n",
    "color = 'red';"
   ]
  },
  {
   "cell_type": "markdown",
   "metadata": {
    "kernel": "typescript"
   },
   "source": [
    "We can also use template strings, which can span multiple lines and have embedded expressions. These strings are surrounded by the backtick/backquote (\\`) character, and embedded expressions are of the form ```${ expr }```."
   ]
  },
  {
   "cell_type": "code",
   "execution_count": null,
   "metadata": {
    "kernel": "typescript"
   },
   "outputs": [],
   "source": [
    "let fullName: string = `Sunit`;\n",
    "let age: number = 23;\n",
    "let sentence: string = `Hello, my name is ${ fullName }.\n",
    "\n",
    "I'll be ${ age + 1 } years old next month.`;"
   ]
  },
  {
   "cell_type": "markdown",
   "metadata": {
    "kernel": "typescript"
   },
   "source": [
    "## Array\n",
    "\n",
    "TypeScript, like JavaScript, allows you to work with arrays of values. Array types can be written in one of two ways. In the first, you use the type of the elements followed by [] to denote an array of that element type"
   ]
  },
  {
   "cell_type": "code",
   "execution_count": null,
   "metadata": {
    "kernel": "typescript"
   },
   "outputs": [],
   "source": [
    "let list: number[] = [1, 2, 3];"
   ]
  },
  {
   "cell_type": "markdown",
   "metadata": {
    "kernel": "typescript"
   },
   "source": [
    "The second way uses a generic array type, Array"
   ]
  },
  {
   "cell_type": "code",
   "execution_count": null,
   "metadata": {
    "kernel": "typescript"
   },
   "outputs": [],
   "source": [
    "let list: Array<number> = [1, 2, 3];"
   ]
  },
  {
   "cell_type": "markdown",
   "metadata": {
    "kernel": "typescript"
   },
   "source": [
    "## Tuple\n",
    "\n",
    "Tuple types allow you to express an array where the type of a fixed number of elements is known, but need not be the same. For example, you may want to represent a value as a pair of a string and a number"
   ]
  },
  {
   "cell_type": "code",
   "execution_count": null,
   "metadata": {
    "kernel": "typescript"
   },
   "outputs": [],
   "source": [
    "// Declare a tuple type\n",
    "let x: [string, number];\n",
    "\n",
    "// Initialize it\n",
    "x = [\"hello\", 10]; // OK\n",
    "\n",
    "// Initialize it incorrectly\n",
    "x = [10, \"hello\"]; // Error"
   ]
  },
  {
   "cell_type": "markdown",
   "metadata": {
    "kernel": "typescript"
   },
   "source": [
    "## Enum\n",
    "\n",
    "A helpful addition to the standard set of datatypes from JavaScript is the enum. As in languages like C#, an enum is a way of giving more friendly names to sets of numeric values."
   ]
  },
  {
   "cell_type": "code",
   "execution_count": null,
   "metadata": {
    "kernel": "typescript"
   },
   "outputs": [],
   "source": [
    "enum Color {Red, Green, Blue}\n",
    "\n",
    "let c: Color = Color.Green;"
   ]
  },
  {
   "cell_type": "markdown",
   "metadata": {
    "kernel": "typescript"
   },
   "source": [
    "By default, enums begin numbering their members starting at 0. You can change this by manually setting the value of one of its members."
   ]
  },
  {
   "cell_type": "code",
   "execution_count": null,
   "metadata": {
    "kernel": "typescript"
   },
   "outputs": [],
   "source": [
    "enum Color {Red = 1, Green, Blue}\n",
    "\n",
    "let c: Color = Color.Green;"
   ]
  },
  {
   "cell_type": "markdown",
   "metadata": {
    "kernel": "typescript"
   },
   "source": [
    "Or, even manually set all the values in the enum"
   ]
  },
  {
   "cell_type": "code",
   "execution_count": null,
   "metadata": {
    "kernel": "typescript"
   },
   "outputs": [],
   "source": [
    "enum Color {Red = 1, Green=5, Blue=9}\n",
    "\n",
    "let c: Color = Color.Green;"
   ]
  },
  {
   "cell_type": "markdown",
   "metadata": {
    "kernel": "typescript"
   },
   "source": [
    "A handy feature of enums is that you can also go from a numeric value to the name of that value in the enum. For example, if we had the value 2 but weren't sure what that mapped to in the Color enum above, we could look up the corresponding name."
   ]
  },
  {
   "cell_type": "code",
   "execution_count": null,
   "metadata": {
    "kernel": "typescript"
   },
   "outputs": [],
   "source": [
    "enum Color {Red = 1, Green, Blue}\n",
    "let colorName: string = Color[2];\n",
    "\n",
    "console.log(colorName); // Displays 'Green' as its value is 2 above"
   ]
  },
  {
   "cell_type": "markdown",
   "metadata": {
    "kernel": "typescript"
   },
   "source": [
    "## Any\n",
    "\n",
    "We may need to describe the type of variables that we do not know when we are writing an application. These values may come from dynamic content, e.g. from the user or a 3rd party library. In these cases, we want to opt-out of type-checking and let the values pass through compile-time checks. To do so, we label these with the any type."
   ]
  },
  {
   "cell_type": "code",
   "execution_count": null,
   "metadata": {
    "kernel": "typescript"
   },
   "outputs": [],
   "source": [
    "let notSure: any = 4;\n",
    "\n",
    "notSure = \"maybe a string instead\";\n",
    "\n",
    "notSure = false; // okay, definitely a boolean"
   ]
  },
  {
   "cell_type": "markdown",
   "metadata": {
    "kernel": "typescript"
   },
   "source": [
    "## Void\n",
    "\n",
    "void is a little like the opposite of any: the absence of having any type at all. You may commonly see this as the return type of functions that do not return a value."
   ]
  },
  {
   "cell_type": "code",
   "execution_count": null,
   "metadata": {
    "kernel": "typescript"
   },
   "outputs": [],
   "source": [
    "function warnUser(): void {\n",
    "    console.log(\"This is my warning message\");\n",
    "}"
   ]
  },
  {
   "cell_type": "markdown",
   "metadata": {
    "kernel": "typescript"
   },
   "source": [
    "## Null and Undefined\n",
    "\n",
    "In TypeScript, both undefined and null actually have their own types named undefined and null respectively. Much like void, they’re not extremely useful on their own."
   ]
  },
  {
   "cell_type": "code",
   "execution_count": null,
   "metadata": {
    "kernel": "typescript"
   },
   "outputs": [],
   "source": [
    "// Not much else we can assign to these variables!\n",
    "\n",
    "let u: undefined = undefined;\n",
    "let n: null = null;"
   ]
  },
  {
   "cell_type": "markdown",
   "metadata": {
    "kernel": "typescript"
   },
   "source": [
    "## Never\n",
    "\n",
    "The never type represents the type of values that never occur. For instance, never is the return type for a function expression or an arrow function expression that always throws an exception or one that never returns; Variables also acquire the type never when narrowed by any type guards that can never be true.\n",
    "\n",
    "The never type is a subtype of, and assignable to, every type; however, no type is a subtype of, or assignable to, never (except never itself). Even any isn't assignable to never.\n",
    "\n",
    "For example."
   ]
  },
  {
   "cell_type": "code",
   "execution_count": null,
   "metadata": {
    "kernel": "typescript"
   },
   "outputs": [],
   "source": [
    "// Function returning never must have unreachable end point\n",
    "function error(message: string): never {\n",
    "    throw new Error(message);\n",
    "}\n",
    "\n",
    "// Inferred return type is never\n",
    "function fail() {\n",
    "    return error(\"Something failed\");\n",
    "}\n",
    "\n",
    "// Function returning never must have unreachable end point\n",
    "function infiniteLoop(): never {\n",
    "    while (true) {\n",
    "    }\n",
    "}"
   ]
  },
  {
   "cell_type": "markdown",
   "metadata": {
    "kernel": "typescript"
   },
   "source": [
    "## Type casting\n",
    "\n",
    "Type casting can be done in two ways in typescript.\n",
    "\n",
    "By using angular bracket"
   ]
  },
  {
   "cell_type": "code",
   "execution_count": null,
   "metadata": {
    "kernel": "typescript"
   },
   "outputs": [],
   "source": [
    "let someValue: any = \"this is a string\";\n",
    "\n",
    "let strLength: number = (<string>someValue).length;"
   ]
  },
  {
   "cell_type": "markdown",
   "metadata": {
    "kernel": "typescript"
   },
   "source": [
    "Or by using ```as``` syntax"
   ]
  },
  {
   "cell_type": "code",
   "execution_count": null,
   "metadata": {
    "kernel": "typescript",
    "tags": [
     "hide_output"
    ]
   },
   "outputs": [],
   "source": [
    "let someValue: any = \"this is a string\";\n",
    "\n",
    "let strLength: number = (someValue as string).length;"
   ]
  },
  {
   "cell_type": "markdown",
   "metadata": {
    "kernel": "typescript"
   },
   "source": [
    "# Interfaces\n",
    "\n",
    "## Introduction\n",
    "\n",
    "One of TypeScript's core principles is that type-checking focuses on the shape that values have, called as \"duck typing\" or \"structural subtyping\". In TypeScript, interfaces fill the role of naming these types, and are a powerful way of defining contracts within your code as well as contracts with code outside of your project.\n",
    "\n",
    "Example of interface is"
   ]
  },
  {
   "cell_type": "code",
   "execution_count": null,
   "metadata": {
    "kernel": "typescript"
   },
   "outputs": [],
   "source": [
    "interface LabelledValue {\n",
    "    label: string;\n",
    "}\n",
    "\n",
    "function printLabel(labelledObj: LabelledValue) {\n",
    "    console.log(labelledObj.label);\n",
    "}\n",
    "\n",
    "let myObj = {size: 10, label: \"Size 10 Object\"};\n",
    "printLabel(myObj);"
   ]
  },
  {
   "cell_type": "markdown",
   "metadata": {
    "kernel": "typescript"
   },
   "source": [
    "The interface ```LabelledValue``` is a name we use to describe the requirement. It represents having a single property called label that is of type string. Notice we didn't have to explicitly say that the object we pass to ```printLabel``` implements this interface like we might have to in other languages. Here, it's only the shape that matters. If the object we pass to the function meets the requirements listed, then it's allowed.\n",
    "\n",
    "It's worth pointing out that the type-checker does not require that these properties come in any sort of order, only that the properties the interface requires are present and have the required type.\n",
    "\n",
    "## Optional Properties\n",
    "\n",
    "Interface can also have optional properties. For example"
   ]
  },
  {
   "cell_type": "code",
   "execution_count": null,
   "metadata": {
    "kernel": "typescript"
   },
   "outputs": [],
   "source": [
    "interface SquareConfig {\n",
    "    color?: string;\n",
    "    width?: number;\n",
    "}\n",
    "\n",
    "function createSquare(config: SquareConfig): {color: string; area: number} {\n",
    "    let newSquare = {color: \"white\", area: 100};\n",
    "    if (config.color) {\n",
    "        newSquare.color = config.color;\n",
    "    }\n",
    "    if (config.width) {\n",
    "        newSquare.area = config.width * config.width;\n",
    "    }\n",
    "    return newSquare;\n",
    "}\n",
    "\n",
    "let mySquare = createSquare({color: \"black\"});"
   ]
  },
  {
   "cell_type": "markdown",
   "metadata": {
    "kernel": "typescript"
   },
   "source": [
    "Interfaces with optional properties are written similar to other interfaces, with each optional property denoted by a ```?``` at the end of the property name in the declaration.\n",
    "\n",
    "The advantage of optional properties is that you can describe these possibly available properties while still also preventing use of properties that are not part of the interface. For example, had we mistyped the name of the color property in ```createSquare```, we would get an error message letting us know.\n",
    "\n",
    "## Readonly properties\n",
    "\n",
    "Some properties should only be modifiable when an object is first created. You can specify this by putting ```readonly``` before the name of the property"
   ]
  },
  {
   "cell_type": "code",
   "execution_count": null,
   "metadata": {
    "kernel": "typescript"
   },
   "outputs": [],
   "source": [
    "interface Point {\n",
    "    readonly x: number;\n",
    "    readonly y: number;\n",
    "}"
   ]
  },
  {
   "cell_type": "markdown",
   "metadata": {
    "kernel": "typescript"
   },
   "source": [
    "You can construct a Point by assigning an object literal. After the assignment, x and y can't be changed.\n",
    "\n",
    "## Function Types\n",
    "\n",
    "Interfaces are capable of describing the wide range of shapes that JavaScript objects can take. In addition to describing an object with properties, interfaces are also capable of describing function types.\n",
    "\n",
    "To describe a function type with an interface, we give the interface a call signature. This is like a function declaration with only the parameter list and return type given. Each parameter in the parameter list requires both name and type."
   ]
  },
  {
   "cell_type": "code",
   "execution_count": null,
   "metadata": {
    "kernel": "typescript"
   },
   "outputs": [],
   "source": [
    "interface SearchFunc {\n",
    "    (source: string, subString: string): boolean;\n",
    "}"
   ]
  },
  {
   "cell_type": "markdown",
   "metadata": {
    "kernel": "typescript"
   },
   "source": [
    "## Indexable Types\n",
    "\n",
    "Similarly to how we can use interfaces to describe function types, we can also describe types that we can \"index into\" like ```a[10]```, or ```ageMap[\"daniel\"]```. Indexable types have an index signature that describes the types we can use to index into the object, along with the corresponding return types when indexing. For example,"
   ]
  },
  {
   "cell_type": "code",
   "execution_count": null,
   "metadata": {
    "kernel": "typescript"
   },
   "outputs": [],
   "source": [
    "interface StringArray {\n",
    "    [index: number]: string;\n",
    "}\n",
    "\n",
    "let myArray: StringArray;\n",
    "myArray = [\"Bob\", \"Fred\"];\n",
    "\n",
    "let myStr: string = myArray[0];"
   ]
  },
  {
   "cell_type": "markdown",
   "metadata": {
    "kernel": "typescript"
   },
   "source": [
    "Above, we have a ```StringArray``` interface that has an index signature. This index signature states that when a ```StringArray``` is indexed with a number, it will return a string.\n",
    "\n",
    "There are two types of supported index signatures: string and number. It is possible to support both types of indexers, but the type returned from a numeric indexer must be a subtype of the type returned from the string indexer. This is because when indexing with a number, JavaScript will actually convert that to a string before indexing into an object. That means that indexing with 100 (a number) is the same thing as indexing with \"100\" (a string), so the two need to be consistent.\n",
    "\n",
    "\n",
    "## Implementing an interface\n",
    "\n",
    "One of the most common uses of interfaces in languages like C# and Java, that of explicitly enforcing that a class meets a particular contract, is also possible in TypeScript."
   ]
  },
  {
   "cell_type": "code",
   "execution_count": null,
   "metadata": {
    "kernel": "typescript"
   },
   "outputs": [],
   "source": [
    "interface ClockInterface {\n",
    "    currentTime: Date;\n",
    "}\n",
    "\n",
    "class Clock implements ClockInterface {\n",
    "    currentTime: Date;\n",
    "    constructor(h: number, m: number) { }\n",
    "}"
   ]
  },
  {
   "cell_type": "markdown",
   "metadata": {
    "kernel": "typescript"
   },
   "source": [
    "## Extending Interfaces\n",
    "\n",
    "Like classes, interfaces can extend each other. This allows you to copy the members of one interface into another, which gives you more flexibility in how you separate your interfaces into reusable components."
   ]
  },
  {
   "cell_type": "code",
   "execution_count": null,
   "metadata": {
    "kernel": "typescript"
   },
   "outputs": [],
   "source": [
    "interface Shape {\n",
    "    color: string;\n",
    "}\n",
    "\n",
    "interface Square extends Shape {\n",
    "    sideLength: number;\n",
    "}\n",
    "\n",
    "let square = <Square>{};\n",
    "square.color = \"blue\";\n",
    "square.sideLength = 10;"
   ]
  },
  {
   "cell_type": "markdown",
   "metadata": {
    "kernel": "typescript"
   },
   "source": [
    "## Hybrid Types\n",
    "\n",
    "Interfaces can describe the rich types present in real world JavaScript. Because of JavaScript's dynamic and flexible nature, you may occasionally encounter an object that works as a combination of some of the types described above.\n",
    "\n",
    "One such example is an object that acts as both a function and an object, with additional properties"
   ]
  },
  {
   "cell_type": "code",
   "execution_count": null,
   "metadata": {
    "kernel": "typescript"
   },
   "outputs": [],
   "source": [
    "interface Counter {\n",
    "    (start: number): string;\n",
    "    interval: number;\n",
    "    reset(): void;\n",
    "}\n",
    "\n",
    "function getCounter(): Counter {\n",
    "    let counter = <Counter>function (start: number) { };\n",
    "    counter.interval = 123;\n",
    "    counter.reset = function () { };\n",
    "    return counter;\n",
    "}\n",
    "\n",
    "let c = getCounter();\n",
    "c(10);\n",
    "c.reset();\n",
    "c.interval = 5.0;"
   ]
  },
  {
   "cell_type": "markdown",
   "metadata": {
    "kernel": "typescript"
   },
   "source": [
    "## Interfaces Extending Classes\n",
    "\n",
    "When an interface type extends a class type it inherits the members of the class but not their implementations. It is as if the interface had declared all of the members of the class without providing an implementation. Interfaces inherit even the private and protected members of a base class. This means that when you create an interface that extends a class with private or protected members, that interface type can only be implemented by that class or a subclass of it.\n",
    "\n",
    "# Classes\n",
    "\n",
    "## Introduction\n",
    "\n",
    "Example of class in typescript is as follows"
   ]
  },
  {
   "cell_type": "code",
   "execution_count": null,
   "metadata": {
    "kernel": "typescript"
   },
   "outputs": [],
   "source": [
    "class Greeter {\n",
    "    greeting: string;\n",
    "    constructor(message: string) {\n",
    "        this.greeting = message;\n",
    "    }\n",
    "    greet() {\n",
    "        return \"Hello, \" + this.greeting;\n",
    "    }\n",
    "}\n",
    "\n",
    "let greeter = new Greeter(\"world\");"
   ]
  },
  {
   "cell_type": "markdown",
   "metadata": {
    "kernel": "typescript"
   },
   "source": [
    "## Inheritance\n",
    "\n",
    "In TypeScript, we can use common object-oriented patterns. One of the most fundamental patterns in class-based programming is being able to extend existing classes to create new ones using inheritance."
   ]
  },
  {
   "cell_type": "code",
   "execution_count": null,
   "metadata": {
    "kernel": "typescript"
   },
   "outputs": [],
   "source": [
    "class Animal {\n",
    "    move(distanceInMeters: number = 0) {\n",
    "        console.log(`Animal moved ${distanceInMeters}m.`);\n",
    "    }\n",
    "}\n",
    "\n",
    "class Dog extends Animal {\n",
    "    bark() {\n",
    "        console.log('Woof! Woof!');\n",
    "    }\n",
    "}\n",
    "\n",
    "const dog = new Dog();\n",
    "dog.bark();\n",
    "dog.move(10);\n",
    "dog.bark();"
   ]
  },
  {
   "cell_type": "markdown",
   "metadata": {
    "kernel": "typescript"
   },
   "source": [
    "## Public, private, and protected modifiers\n",
    "\n",
    "Modifier public, private and protected are attaching a prefix access modifier before the variable/function declaration"
   ]
  },
  {
   "cell_type": "code",
   "execution_count": null,
   "metadata": {
    "kernel": "typescript"
   },
   "outputs": [],
   "source": [
    "class Animal {\n",
    "    private name: string;\n",
    "    public constructor(theName: string) { this.name = theName; }\n",
    "    public move(distanceInMeters: number) {\n",
    "        console.log(`${this.name} moved ${distanceInMeters}m.`);\n",
    "    }\n",
    "}"
   ]
  },
  {
   "cell_type": "markdown",
   "metadata": {
    "kernel": "typescript"
   },
   "source": [
    "## Readonly modifier\n",
    "\n",
    "You can make properties ```readonly``` by using the ```readonly``` keyword. Readonly properties must be initialized at their declaration or in the constructor."
   ]
  },
  {
   "cell_type": "code",
   "execution_count": null,
   "metadata": {
    "kernel": "typescript"
   },
   "outputs": [],
   "source": [
    "class Octopus {\n",
    "    readonly name: string;\n",
    "    readonly numberOfLegs: number = 8;\n",
    "    constructor (theName: string) {\n",
    "        this.name = theName;\n",
    "    }\n",
    "}\n",
    "let dad = new Octopus(\"Man with the 8 strong legs\");\n",
    "dad.name = \"Man with the 3-piece suit\"; // error! name is readonly."
   ]
  },
  {
   "cell_type": "markdown",
   "metadata": {
    "kernel": "typescript"
   },
   "source": [
    "## Accessors\n",
    "\n",
    "TypeScript supports getters/setters as a way of intercepting accesses to a member of an object. This gives you a way of having finer-grained control over how a member is accessed on each object.\n",
    "\n",
    "For example,"
   ]
  },
  {
   "cell_type": "code",
   "execution_count": null,
   "metadata": {
    "kernel": "typescript"
   },
   "outputs": [],
   "source": [
    "let passcode = \"secret passcode\";\n",
    "\n",
    "class Employee {\n",
    "    private _fullName: string;\n",
    "\n",
    "    get fullName(): string {\n",
    "        return this._fullName;\n",
    "    }\n",
    "\n",
    "    set fullName(newName: string) {\n",
    "        if (passcode && passcode == \"secret passcode\") {\n",
    "            this._fullName = newName;\n",
    "        }\n",
    "        else {\n",
    "            console.log(\"Error: Unauthorized update of employee!\");\n",
    "        }\n",
    "    }\n",
    "}\n",
    "\n",
    "let employee = new Employee();\n",
    "employee.fullName = \"Bob Smith\";\n",
    "if (employee.fullName) {\n",
    "    console.log(employee.fullName);\n",
    "}"
   ]
  },
  {
   "cell_type": "markdown",
   "metadata": {
    "kernel": "typescript"
   },
   "source": [
    "## Static Properties\n",
    "\n",
    "We can also create static members of a class, those that are visible on the class itself rather than on the instances. For example"
   ]
  },
  {
   "cell_type": "code",
   "execution_count": null,
   "metadata": {
    "kernel": "typescript"
   },
   "outputs": [],
   "source": [
    "class Grid {\n",
    "    static origin = {x: 0, y: 0};\n",
    "    calculateDistanceFromOrigin(point: {x: number; y: number;}) {\n",
    "        let xDist = (point.x - Grid.origin.x);\n",
    "        let yDist = (point.y - Grid.origin.y);\n",
    "        return Math.sqrt(xDist * xDist + yDist * yDist) / this.scale;\n",
    "    }\n",
    "    constructor (public scale: number) { }\n",
    "}\n",
    "\n",
    "let grid1 = new Grid(1.0);  // 1x scale\n",
    "let grid2 = new Grid(5.0);  // 5x scale\n",
    "\n",
    "console.log(grid1.calculateDistanceFromOrigin({x: 10, y: 10}));\n",
    "console.log(grid2.calculateDistanceFromOrigin({x: 10, y: 10}));"
   ]
  },
  {
   "cell_type": "markdown",
   "metadata": {
    "kernel": "typescript"
   },
   "source": [
    "## Abstract Classes\n",
    "\n",
    "Abstract classes are base classes from which other classes may be derived. They may not be instantiated directly. Unlike an interface, an abstract class may contain implementation details for its members. The abstract keyword is used to define abstract classes as well as abstract methods within an abstract class."
   ]
  },
  {
   "cell_type": "code",
   "execution_count": null,
   "metadata": {
    "kernel": "typescript"
   },
   "outputs": [],
   "source": [
    "abstract class Animal {\n",
    "    abstract makeSound(): void;\n",
    "    move(): void {\n",
    "        console.log(\"roaming the earth...\");\n",
    "    }\n",
    "}"
   ]
  },
  {
   "cell_type": "markdown",
   "metadata": {
    "kernel": "typescript"
   },
   "source": [
    "# Generics\n",
    "\n",
    "Typescript supports generic framework somewhat similar to java.\n",
    "\n",
    "Here is an example of generic function which returns same value that it receives as an argument."
   ]
  },
  {
   "cell_type": "code",
   "execution_count": null,
   "metadata": {
    "kernel": "typescript"
   },
   "outputs": [],
   "source": [
    "function identity<T>(arg: T): T {\n",
    "    return arg;\n",
    "}"
   ]
  },
  {
   "cell_type": "markdown",
   "metadata": {
    "kernel": "typescript"
   },
   "source": [
    "## Generic Classes\n",
    "\n",
    "Generic classes have a generic type parameter list in angle brackets (<>) following the name of the class."
   ]
  },
  {
   "cell_type": "code",
   "execution_count": null,
   "metadata": {
    "kernel": "typescript"
   },
   "outputs": [],
   "source": [
    "class GenericNumber<T> {\n",
    "    zeroValue: T;\n",
    "    add: (x: T, y: T) => T;\n",
    "}\n",
    "\n",
    "let myGenericNumber = new GenericNumber<number>();\n",
    "myGenericNumber.zeroValue = 0;\n",
    "myGenericNumber.add = function(x, y) { return x + y; };"
   ]
  },
  {
   "cell_type": "markdown",
   "metadata": {
    "kernel": "typescript"
   },
   "source": [
    "## Generic Constraints\n",
    "\n",
    "We can create constrain on the generic type which should be a subclass of a particular type with using extends keyword."
   ]
  },
  {
   "cell_type": "code",
   "execution_count": null,
   "metadata": {
    "kernel": "typescript"
   },
   "outputs": [],
   "source": [
    "interface Lengthwise {\n",
    "    length: number;\n",
    "}\n",
    "\n",
    "function loggingIdentity<T extends Lengthwise>(arg: T): T {\n",
    "    console.log(arg.length);  // Now we know it has a .length property, so no more error\n",
    "    return arg;\n",
    "}"
   ]
  },
  {
   "cell_type": "markdown",
   "metadata": {
    "kernel": "typescript"
   },
   "source": [
    "## Using Type Parameters in Generic Constraints\n",
    "\n",
    "You can declare a type parameter that is constrained by another type parameter. For example, here we'd like to get a property from an object given its name. We'd like to ensure that we're not accidentally grabbing a property that does not exist on the obj, so we'll place a constraint between the two types:"
   ]
  },
  {
   "cell_type": "code",
   "execution_count": null,
   "metadata": {
    "kernel": "typescript"
   },
   "outputs": [],
   "source": [
    "function getProperty<T, K extends keyof T>(obj: T, key: K) {\n",
    "    return obj[key];\n",
    "}\n",
    "\n",
    "let x = { a: 1, b: 2, c: 3, d: 4 };\n",
    "\n",
    "getProperty(x, \"a\"); // okay\n",
    "getProperty(x, \"m\"); // error: Argument of type 'm' isn't assignable to 'a' | 'b' | 'c' | 'd'."
   ]
  },
  {
   "cell_type": "markdown",
   "metadata": {
    "kernel": "typescript"
   },
   "source": [
    "# Enums\n",
    "\n",
    "Enums allow us to define a set of named constants. Using enums can make it easier to document intent, or create a set of distinct cases. TypeScript provides both numeric and string-based enums."
   ]
  },
  {
   "cell_type": "code",
   "execution_count": null,
   "metadata": {
    "kernel": "typescript"
   },
   "outputs": [],
   "source": [
    "enum Direction {\n",
    "    Up,\n",
    "    Down,\n",
    "    Left,\n",
    "    Right,\n",
    "}"
   ]
  },
  {
   "cell_type": "markdown",
   "metadata": {
    "kernel": "typescript"
   },
   "source": [
    "Here Up will have value 0, Down will have 1 etc . We can also change the initial value of the enum by initializing it at the time of declaration eg ```UP = 1```\n",
    "\n",
    "OR"
   ]
  },
  {
   "cell_type": "code",
   "execution_count": null,
   "metadata": {
    "kernel": "typescript"
   },
   "outputs": [],
   "source": [
    "enum Direction {\n",
    "    Up = \"UP\",\n",
    "    Down = \"DOWN\",\n",
    "    Left = \"LEFT\",\n",
    "    Right = \"RIGHT\",\n",
    "}"
   ]
  },
  {
   "cell_type": "markdown",
   "metadata": {
    "kernel": "typescript"
   },
   "source": [
    "# Advance Type\n",
    "\n",
    "## Intersection Types\n",
    "\n",
    "An intersection type combines multiple types into one. This allows you to add together existing types to get a single type that has all the features you need. For example, Person & Serializable & Loggable is a Person and Serializable and Loggable. That means an object of this type will have all members of all three types."
   ]
  },
  {
   "cell_type": "code",
   "execution_count": null,
   "metadata": {
    "kernel": "typescript"
   },
   "outputs": [],
   "source": [
    "function extend<T, U>(first: T, second: U): T & U {\n",
    "    let result = <T & U>{};\n",
    "    for (let id in first) {\n",
    "        (<any>result)[id] = (<any>first)[id];\n",
    "    }\n",
    "    for (let id in second) {\n",
    "        if (!result.hasOwnProperty(id)) {\n",
    "            (<any>result)[id] = (<any>second)[id];\n",
    "        }\n",
    "    }\n",
    "    return result;\n",
    "}\n",
    "\n",
    "class Person {\n",
    "    constructor(public name: string) { }\n",
    "}\n",
    "interface Loggable {\n",
    "    log(): void;\n",
    "}\n",
    "class ConsoleLogger implements Loggable {\n",
    "    log() {\n",
    "        // ...\n",
    "    }\n",
    "}\n",
    "var jim = extend(new Person(\"Jim\"), new ConsoleLogger());\n",
    "var n = jim.name;\n",
    "jim.log();"
   ]
  },
  {
   "cell_type": "markdown",
   "metadata": {
    "kernel": "typescript"
   },
   "source": [
    "## Union Types\n",
    "\n",
    "Union types are type which can take any particular value from given set of types. For example"
   ]
  },
  {
   "cell_type": "code",
   "execution_count": null,
   "metadata": {
    "kernel": "typescript"
   },
   "outputs": [],
   "source": [
    "/*\n",
    " * Takes a string and adds \"padding\" to the left.\n",
    " * If 'padding' is a string, then 'padding' is appended to the left side.\n",
    " * If 'padding' is a number, then that number of spaces is added to the left side.\n",
    " */\n",
    "function padLeft(value: string, padding: string | number) {\n",
    "    // ...\n",
    "}\n",
    "\n",
    "let indentedString = padLeft(\"Hello world\", true); // errors during compilation"
   ]
  },
  {
   "cell_type": "markdown",
   "metadata": {
    "kernel": "typescript"
   },
   "source": [
    "## User-Defined Type Guards\n",
    "\n",
    "TypeScript has something called a type guard. A type guard is some expression that performs a runtime check that guarantees the type in some scope. To define a type guard, we simply need to define a function whose return type is a type predicate."
   ]
  },
  {
   "cell_type": "code",
   "execution_count": null,
   "metadata": {
    "kernel": "typescript"
   },
   "outputs": [],
   "source": [
    "function isFish(pet: Fish | Bird): pet is Fish {\n",
    "    return (<Fish>pet).swim !== undefined;\n",
    "}"
   ]
  },
  {
   "cell_type": "markdown",
   "metadata": {
    "kernel": "typescript"
   },
   "source": [
    "```pet``` is Fish is our type predicate in this example. A predicate takes the form parameterName is Type, where parameterName must be the name of a parameter from the current function signature.\n",
    "\n",
    "Any time ```isFish``` is called with some variable, TypeScript will narrow that variable to that specific type if the original type is compatible.\n",
    "\n",
    "## Type Aliases\n",
    "\n",
    "Type aliases create a new name for a type. Type aliases are sometimes similar to interfaces, but can name primitives, unions, tuples, and any other types that you'd otherwise have to write by hand."
   ]
  },
  {
   "cell_type": "code",
   "execution_count": null,
   "metadata": {
    "kernel": "typescript"
   },
   "outputs": [],
   "source": [
    "type Name = string;\n",
    "type NameResolver = () => string;\n",
    "type NameOrResolver = Name | NameResolver;\n",
    "\n",
    "function getName(n: NameOrResolver): Name {\n",
    "    if (typeof n === \"string\") {\n",
    "        return n;\n",
    "    }\n",
    "    else {\n",
    "        return n();\n",
    "    }\n",
    "}"
   ]
  },
  {
   "cell_type": "markdown",
   "metadata": {
    "kernel": "typescript"
   },
   "source": [
    "## String Literal Types\n",
    "\n",
    "String literal types allow you to specify the exact value a string must have. In practice string literal types combine nicely with union types, type guards, and type aliases. You can use these features together to get enum-like behavior with strings."
   ]
  },
  {
   "cell_type": "code",
   "execution_count": null,
   "metadata": {
    "kernel": "typescript"
   },
   "outputs": [],
   "source": [
    "type Easing = \"ease-in\" | \"ease-out\" | \"ease-in-out\";\n",
    "\n",
    "class UIElement {\n",
    "    animate(dx: number, dy: number, easing: Easing) {\n",
    "        if (easing === \"ease-in\") {\n",
    "            // ...\n",
    "        }\n",
    "        else if (easing === \"ease-out\") {\n",
    "        }\n",
    "        else if (easing === \"ease-in-out\") {\n",
    "        }\n",
    "        else {\n",
    "            // error! should not pass null or undefined.\n",
    "        }\n",
    "    }\n",
    "}\n",
    "\n",
    "let button = new UIElement();\n",
    "button.animate(0, 0, \"ease-in\");\n",
    "button.animate(0, 0, \"uneasy\"); // error: \"uneasy\" is not allowed here"
   ]
  },
  {
   "cell_type": "markdown",
   "metadata": {
    "kernel": "typescript"
   },
   "source": [
    "## Numeric Literal Types\n",
    "\n",
    "TypeScript also has numeric literal types"
   ]
  },
  {
   "cell_type": "code",
   "execution_count": null,
   "metadata": {
    "kernel": "typescript"
   },
   "outputs": [],
   "source": [
    "function rollDie(): 1 | 2 | 3 | 4 | 5 | 6 {\n",
    "    // ...\n",
    "}"
   ]
  },
  {
   "cell_type": "markdown",
   "metadata": {
    "kernel": "typescript"
   },
   "source": [
    "# References\n",
    "\n",
    "Typescript Documentation ([link](https://www.typescriptlang.org/docs/home.html))"
   ]
  }
 ],
 "metadata": {
  "kernelspec": {
   "display_name": "SoS",
   "language": "sos",
   "name": "sos"
  },
  "language_info": {
   "codemirror_mode": "sos",
   "file_extension": ".sos",
   "mimetype": "text/x-sos",
   "name": "sos",
   "nbconvert_exporter": "sos_notebook.converter.SoS_Exporter",
   "pygments_lexer": "sos"
  },
  "note_info": {
   "description": "Notes for typescript.",
   "image": "static/img/notes/programing/typescript.jpeg",
   "slug": "typescript",
   "title": "Typescript"
  },
  "sos": {
   "kernels": [
    [
     "typescript",
     "typescript",
     "typescript",
     "",
     ""
    ]
   ],
   "panel": {
    "displayed": true,
    "height": 0
   },
   "version": "0.19.1"
  },
  "toc": {
   "base_numbering": 1,
   "nav_menu": {},
   "number_sections": true,
   "sideBar": true,
   "skip_h1_title": false,
   "title_cell": "Table of Contents",
   "title_sidebar": "Contents",
   "toc_cell": false,
   "toc_position": {},
   "toc_section_display": true,
   "toc_window_display": false
  }
 },
 "nbformat": 4,
 "nbformat_minor": 2
}
