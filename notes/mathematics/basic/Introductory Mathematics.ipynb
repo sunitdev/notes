{
 "cells": [
  {
   "cell_type": "markdown",
   "metadata": {},
   "source": [
    "# Logarithms\n",
    "\n",
    "We all know that exponent is something raise to something. For example $5^3=5*5*5=125$ or $5^{-2}=\\frac{1}{5^2}=\\frac{1}{25}=0.04$. Exponent is generally written as $x^a=y$. Where $x$ is called the **base** and **a** is called the exponent.\n",
    "\n",
    "Logarithms or simply **log** is opposite of exponent. Continuing the above definition, log will be defined as follows $log_x(y)=a$. Read as \"log of $y$ to the base $x$ is $a$\". So basically the question we are asking with logarithm is, for what number if i raise $x$ to will give me $y$. To complete our definition we show the log of the examples we took. $log_5(125)=3$ and $log_5(0.04)=-2$."
   ]
  }
 ],
 "metadata": {
  "kernelspec": {
   "display_name": "Python 3",
   "language": "python",
   "name": "python3"
  },
  "language_info": {
   "codemirror_mode": {
    "name": "ipython",
    "version": 3
   },
   "file_extension": ".py",
   "mimetype": "text/x-python",
   "name": "python",
   "nbconvert_exporter": "python",
   "pygments_lexer": "ipython3",
   "version": "3.6.8"
  },
  "note_info": {
   "description": "Notes for basic concepts in mathematics",
   "image": "static/img/notes/mathematics/basics/logo.png",
   "slug": "introductory-mathematics",
   "title": "Introductory Mathematics"
  },
  "toc": {
   "base_numbering": 1,
   "nav_menu": {},
   "number_sections": true,
   "sideBar": true,
   "skip_h1_title": false,
   "title_cell": "Table of Contents",
   "title_sidebar": "Contents",
   "toc_cell": false,
   "toc_position": {},
   "toc_section_display": true,
   "toc_window_display": false
  }
 },
 "nbformat": 4,
 "nbformat_minor": 2
}
