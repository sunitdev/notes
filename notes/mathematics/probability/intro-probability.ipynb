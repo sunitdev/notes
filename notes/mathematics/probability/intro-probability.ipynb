{
 "cells": [
  {
   "cell_type": "markdown",
   "metadata": {},
   "source": [
    "# Introduction\n",
    "\n",
    "Many events cant be predicted with total certainty. The best we can say is how ***likely*** they are to happen using the idea of probability. Probability can be thought as a mathematical framework for reasoning about uncertainty and developing approaches to inference problems.\n",
    "\n",
    "# Combinator Analysis\n",
    "\n",
    "Probability is all about likeness of an event to occur. Hence it would be useful to have an effective method for counting the number of ways a thing can occur. The mathematical theory of counting is formally knows as the combinatorial analysis.\n",
    "\n",
    "## The Basic Principle of Counting\n",
    "\n",
    "The basic principle of counting will be fundamental to all the theories in probability. Loosely put, it states that if one experiment can result in any of $m$ possible outcomes and if other experiment can result in any $n$ possible outcomes, then there are $mn$ possible outcomes of the two experiments.\n",
    "\n",
    "We can generalize the formula as such.\n",
    "\n",
    "<div class=\"alert alert-block alert-success\">\n",
    "If $r$ experiments that are to be performed such that the first one may result in any of $n_1$ possible outcomes; and if, for each of there $n_1$ possible outcomes, there are $n_2$ possible outcomes of the second experiment; and if, for each of the possible outcomes of the first two experiment, there are $n_3$ possible outcomes of the third experiment; then there is a total of $n_1 * n_2 ... n_r$ possible outcomes of the $r$ experiments.\n",
    "</div>\n",
    "\n",
    "\n",
    "## Permutations\n",
    "\n",
    "Permutation is number of ways we can arrange objects. Suppose we have three letters $a, b$ and $c$, how many different ordered arrangements of the letters are possible? In this case we can simply list it down and count. $abc, acb, bac, bca, cab$ and $cba$ as we can see there are $6$ possible arrangements. But we could have calculated it without listing it down. Since the first object in the permutation can be any of the $3$, second can be any of the $2$ and the third object is the remaining one. So the total possible permutations would have been $3 * 2 * 1 = 6$. Thus we can generalize this as follows.\n",
    "\n",
    "<div class=\"alert alert-block alert-success\">\n",
    "Suppose we have $n$ objects. We can have following number of permutations for it. <br><br>\n",
    "$$\n",
    "n(n-1)(n-2)......3.2.1 = n!\n",
    "$$\n",
    "</div>\n",
    "\n",
    "Consider another case, how many permutation can be formed from the letter $PEPPER$?\n",
    "\n",
    "Since there are $6$ letter then total $6!$ combinations. But it is only true if we consider each $E$ and $P$ as separate letter. What if we consider all $P$ and all $E$ as single letter. The the permutation will be total permutation divided by the permutation possible for all $P's$ and all $E's$. Since there are three $P's$ possible permutation are $3!$ and for $E$ it is $2!$. So by basic principle of counting, the total permutation of $P's$ and $E's$ is $3! * 2!$ and the total permutation of all letter will be $\\frac{6!}{3!2!}$.\n",
    "\n",
    "<div class=\"alert alert-block alert-success\">\n",
    "In general, for $n$ objects the total permutation are. <br><br>\n",
    "$$\n",
    "\\frac{n!}{n_1! * n_2! ... n_r!}\n",
    "$$\n",
    "<br>\n",
    "Where $n_1$ is alike and $n_2$ is alike and so on.\n",
    "</div>\n",
    "\n",
    "\n",
    "## Combinations\n",
    "\n",
    "## Multinomial Coefficients\n",
    "\n",
    "# Probability Axioms"
   ]
  }
 ],
 "metadata": {
  "kernelspec": {
   "display_name": "Python 3",
   "language": "python",
   "name": "python3"
  },
  "language_info": {
   "codemirror_mode": {
    "name": "ipython",
    "version": 3
   },
   "file_extension": ".py",
   "mimetype": "text/x-python",
   "name": "python",
   "nbconvert_exporter": "python",
   "pygments_lexer": "ipython3",
   "version": "3.6.8"
  },
  "note_info": {
   "description": "Basic probability axioms and Random Variables",
   "image": "static/img/notes/mathematics/intro-probability/logo.jpg",
   "slug": "intro-probability",
   "title": "Introduction To Probability"
  },
  "toc": {
   "base_numbering": 1,
   "nav_menu": {},
   "number_sections": true,
   "sideBar": true,
   "skip_h1_title": false,
   "title_cell": "Table of Contents",
   "title_sidebar": "Contents",
   "toc_cell": false,
   "toc_position": {},
   "toc_section_display": true,
   "toc_window_display": false
  }
 },
 "nbformat": 4,
 "nbformat_minor": 2
}
