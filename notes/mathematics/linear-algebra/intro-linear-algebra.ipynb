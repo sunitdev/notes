{
 "cells": [
  {
   "cell_type": "markdown",
   "metadata": {},
   "source": [
    "# Introduction\n",
    "\n",
    "Linear Algebra is a branch of mathematic which deals with solving linear equation. Mostly importantly it deals with vector and their **linear combinations** like addition, subtraction, multiplication and division. So before reading about linear algebra we will get ourself acquainted with vector.\n",
    "\n",
    "# Vectors\n",
    "\n",
    "## Definition\n",
    "\n",
    "Broadly speaking there are three ways of looking at vector. Each of them suites different needs depending on the type of application.\n",
    "\n",
    "### Arrow in Space.\n",
    "\n",
    "One way of conceptualizing vector is an arrow in space starting from the origin to the a particular coordinate in space. For example, We can thing of vector $\\begin{bmatrix} 2 \\\\ 4 \\end{bmatrix}$ as shown in digram below."
   ]
  },
  {
   "cell_type": "code",
   "execution_count": 45,
   "metadata": {},
   "outputs": [
    {
     "data": {
      "image/png": "[encoded data removed]",
      "text/plain": [
       "<Figure size 432x288 with 1 Axes>"
      ]
     },
     "metadata": {
      "needs_background": "light"
     },
     "output_type": "display_data"
    }
   ],
   "source": [
    "%matplotlib inline\n",
    "\n",
    "import numpy as np\n",
    "import matplotlib.pyplot as plt\n",
    "\n",
    "# Setup plot\n",
    "plt.xticks(np.arange(-5, 6, 1.0))\n",
    "plt.yticks(np.arange(-5, 6, 1.0))\n",
    "plt.xlim(-5, 5)\n",
    "plt.ylim(-5, 5)\n",
    "\n",
    "# Axis\n",
    "plt.axhline(0, color='black')\n",
    "plt.axvline(0, color='black')\n",
    "\n",
    "# Vector\n",
    "plt.quiver([0], [0], [2], [4], color=['r'], angles='xy', scale_units='xy', scale=1)\n",
    "plt.show()\n",
    "\n"
   ]
  },
  {
   "cell_type": "markdown",
   "metadata": {},
   "source": [
    "As we can see vector is represented by a line from the origin $(0, 0)$ to the point in space $(2, 4)$, where $2$ is the first component of the vector or 1st dimension and $4$ is the second component of the vector or the second dimension. Understanding how vectors are represented geometrically is crucial to understanding the underline concepts of linear algebra.\n",
    "\n",
    "### Point is space.\n",
    "\n",
    "Other way of long at vector $\\begin{bmatrix} 2 \\\\ 4 \\end{bmatrix}$ is to consider the components of a vector as coordinates of a point in space. As shown in diagram below. "
   ]
  },
  {
   "cell_type": "code",
   "execution_count": 50,
   "metadata": {},
   "outputs": [
    {
     "data": {
      "image/png": "[encoded data removed]",
      "text/plain": [
       "<Figure size 432x288 with 1 Axes>"
      ]
     },
     "metadata": {
      "needs_background": "light"
     },
     "output_type": "display_data"
    }
   ],
   "source": [
    "%matplotlib inline\n",
    "\n",
    "import numpy as np\n",
    "import matplotlib.pyplot as plt\n",
    "\n",
    "# Setup plot\n",
    "plt.xticks(np.arange(-5, 6, 1.0))\n",
    "plt.yticks(np.arange(-5, 6, 1.0))\n",
    "plt.xlim(-5, 5)\n",
    "plt.ylim(-5, 5)\n",
    "\n",
    "# Axis\n",
    "plt.axhline(0, color='black')\n",
    "plt.axvline(0, color='black')\n",
    "\n",
    "# Vector\n",
    "plt.plot([2], [4], marker='o', markersize=3, color=\"red\")\n",
    "plt.show()"
   ]
  },
  {
   "cell_type": "markdown",
   "metadata": {},
   "source": [
    "### List of numbers\n",
    "\n",
    "This is computer science or computational perspective of vectors. Vectors can be thought of list of number written in a column format. Thus a vector $\\begin{bmatrix} 2 \\\\ 4 \\end{bmatrix}$ has two numbers or components $2$ and $4$ respectively.\n",
    "\n",
    "## Operations on Vector\n",
    "\n",
    "Irrespective of vector are conceptualized, we can perform some common operation on vector. We will see some on those operation and what they mean geometrically.\n",
    "\n",
    "### Addition and Subtraction.\n",
    "\n",
    "Addition and subtraction of vector is as simple as adding the components of vector. Suppose we have two vectors $\\overrightarrow{v} = \\begin{bmatrix} v_1 \\\\ v_2 \\end{bmatrix}$ with two components $v_1$ and $v_2$ and other vector $\\overrightarrow{w} = \\begin{bmatrix} w_1 \\\\ w_2 \\end{bmatrix}$ with two components $w_1$ and $w_2$. Then the addition and subtraction of vector $\\overrightarrow{v}$ and $\\overrightarrow{w}$ is simple the addition or subtraction of the components.\n",
    "\n",
    "$$\n",
    "    \\overrightarrow{v} + \\overrightarrow{w} = \\begin{bmatrix} v_1 \\\\ v_2 \\end{bmatrix} + \\begin{bmatrix} w_1 \\\\ w_2 \\end{bmatrix} = \\begin{bmatrix} v_1 + w_1 \\\\ v_2 + w_2 \\end{bmatrix}\n",
    "$$\n",
    "\n",
    "For example, let $\\overrightarrow{v} = \\begin{bmatrix} 2 \\\\ 3 \\end{bmatrix}$ and let $ \\overrightarrow{w} = \\begin{bmatrix} -1 \\\\ 2 \\end{bmatrix}$ then.\n",
    "\n",
    "$$\n",
    "\\overrightarrow{v} + \\overrightarrow{w} = \\begin{bmatrix} 2 \\\\ 3 \\end{bmatrix} + \\begin{bmatrix} -1 \\\\ 2 \\end{bmatrix} = \\begin{bmatrix} 2 + (-1) \\\\ 3 + 2 \\end{bmatrix} = \\begin{bmatrix} 1 \\\\ 5 \\end{bmatrix}\n",
    "$$\n",
    "\n",
    "Geometrically, we can see components of vector as unit of director in each dimension. For two dimension it is mainly **x** and **y** axis. So vector $\\overrightarrow{v} = \\begin{bmatrix} 2 \\\\ 3 \\end{bmatrix}$ here means 2 unit in x-axis and 3 unit in y-axis. So when we add vector we can visualize it as if we have placed the second vector at the end of first vector (indicated by blue vector) and then the point at the end of second vector is the sum of first and second vector (indicated by green vector). As shown in diagram below. So vector can also be thought as unit of movement in a given direction. where negative number suggest movement in opposite direction."
   ]
  },
  {
   "cell_type": "code",
   "execution_count": 31,
   "metadata": {},
   "outputs": [
    {
     "data": {
      "image/png": "[encoded data removed]",
      "text/plain": [
       "<Figure size 432x288 with 1 Axes>"
      ]
     },
     "metadata": {
      "needs_background": "light"
     },
     "output_type": "display_data"
    }
   ],
   "source": [
    "%matplotlib inline\n",
    "\n",
    "import numpy as np\n",
    "import matplotlib.pyplot as plt\n",
    "\n",
    "# Setup plot\n",
    "plt.xticks(np.arange(-5, 6, 1.0))\n",
    "plt.yticks(np.arange(-5, 7, 1.0))\n",
    "plt.xlim(-5, 5)\n",
    "plt.ylim(-5, 6)\n",
    "\n",
    "# Vector\n",
    "V = np.array([[2, 3], [-1, 2]])\n",
    "result = V[0] + V[1]\n",
    "\n",
    "# Axis\n",
    "plt.axhline(0, color='black')\n",
    "plt.axvline(0, color='black')\n",
    "\n",
    "# Plot Vector\n",
    "plt.quiver([0], [0], V[:,0], V[:,1], color=['r', 'r'], angles='xy', scale_units='xy', scale=1)\n",
    "plt.quiver(V[0][0], V[0][1], V[1][0], V[1][1], color=['b'], angles='xy', scale_units='xy', scale=1)\n",
    "plt.quiver([0], [0], result[0], result[1], color=['g'], angles='xy', scale_units='xy', scale=1)\n",
    "plt.show()"
   ]
  },
  {
   "cell_type": "markdown",
   "metadata": {},
   "source": [
    "Similarly we can compute subtraction. So the general formula for two dimension vector is.\n",
    "\n",
    "$$\n",
    "\\overrightarrow{v} \\pm \\overrightarrow{w} = \\begin{bmatrix} v_1 \\\\ v_2 \\end{bmatrix} \\pm \\begin{bmatrix} w_1 \\\\ w_2 \\end{bmatrix} = \\begin{bmatrix} v_1 \\pm w_1 \\\\ v_2 \\pm w_2 \\end{bmatrix}\n",
    "$$\n",
    "\n",
    "### Scaler Multiplication\n",
    "\n",
    "Other common operations which we can perform on vector is multiplying it with a number also called as scaling, because when we multiple a vector by a number we are scaling the vector by that number, as shown in the diagram.\n",
    "For example, let $\\overrightarrow{v}$ be a vector and let $a$ be a number, then\n",
    "$$\n",
    "\\overrightarrow{v} * a = \\begin{bmatrix} v_1 * a \\\\ v_2 * a \\end{bmatrix}\n",
    "$$\n",
    "\n",
    "Thus\n",
    "\n",
    "$$\n",
    "\\begin{bmatrix} -1 \\\\ 2 \\end{bmatrix} * 2 = \\begin{bmatrix} -2 \\\\ 4 \\end{bmatrix}\n",
    "$$\n",
    "\n",
    "Depicted in diagram below."
   ]
  },
  {
   "cell_type": "code",
   "execution_count": 34,
   "metadata": {},
   "outputs": [
    {
     "data": {
      "image/png": "[encoded data removed]",
      "text/plain": [
       "<Figure size 432x288 with 1 Axes>"
      ]
     },
     "metadata": {
      "needs_background": "light"
     },
     "output_type": "display_data"
    }
   ],
   "source": [
    "%matplotlib inline\n",
    "\n",
    "import numpy as np\n",
    "import matplotlib.pyplot as plt\n",
    "\n",
    "# Setup plot\n",
    "plt.xticks(np.arange(-5, 6, 1.0))\n",
    "plt.yticks(np.arange(-5, 7, 1.0))\n",
    "plt.xlim(-5, 5)\n",
    "plt.ylim(-5, 6)\n",
    "\n",
    "# Vector\n",
    "V = np.array([-1, 2])\n",
    "result = V * 2\n",
    "\n",
    "# Axis\n",
    "plt.axhline(0, color='black')\n",
    "plt.axvline(0, color='black')\n",
    "\n",
    "# Plot Vector\n",
    "plt.quiver([0], [0], result[0], result[1], color=['g'], angles='xy', scale_units='xy', scale=1)\n",
    "plt.quiver([0], [0], V[0], V[1], color=['r'], angles='xy', scale_units='xy', scale=1)\n",
    "plt.show()"
   ]
  },
  {
   "cell_type": "markdown",
   "metadata": {},
   "source": [
    "### Length of Vector\n",
    "\n",
    "Length of vector is calculated by taking square root of sum of square of each component.\n",
    "\n",
    "$$\n",
    "\\text{length} = \\| v \\|\t= \\sqrt{v * v} = (v_1^2 + v_2^2 + v_3^2)^{1/2}\n",
    "$$\n",
    "\n",
    "Intuition for this formula is simple pythagoras theorem because, vertical line from point of vertex to x-axis and the x-axis itself form side or a right angle triangle. As shown in diagram below.\n"
   ]
  },
  {
   "cell_type": "code",
   "execution_count": 74,
   "metadata": {},
   "outputs": [
    {
     "data": {
      "image/png": "[encoded data removed]",
      "text/plain": [
       "<Figure size 432x288 with 1 Axes>"
      ]
     },
     "metadata": {
      "needs_background": "light"
     },
     "output_type": "display_data"
    }
   ],
   "source": [
    "%matplotlib inline\n",
    "\n",
    "import numpy as np\n",
    "import matplotlib.pyplot as plt\n",
    "\n",
    "# Setup plot\n",
    "plt.xticks(np.arange(-5, 6, 1.0))\n",
    "plt.yticks(np.arange(-5, 7, 1.0))\n",
    "plt.xlim(-5, 5)\n",
    "plt.ylim(-5, 6)\n",
    "\n",
    "# Axis\n",
    "plt.axhline(0, color='black')\n",
    "plt.axvline(0, color='black')\n",
    "\n",
    "\n",
    "# Plot Vector\n",
    "plt.quiver([0], [0], [3], [3], color=['r'], angles='xy', scale_units='xy', scale=1)\n",
    "\n",
    "# Plot triangle sides\n",
    "X = np.full([4], 3)\n",
    "Y = np.arange(0, 4, 1)\n",
    "plt.plot(X, Y, '--')\n",
    "\n",
    "# Text\n",
    "plt.text(3.5, 1, '$y^2$')\n",
    "plt.text(2, -1, '$x^2$')\n",
    "\n",
    "plt.show()"
   ]
  },
  {
   "cell_type": "markdown",
   "metadata": {},
   "source": [
    "### Dot Product\n",
    "\n",
    "Dot product of two vector is easy to define numerically. A Dot product of same dimension vector is same as multiplying both of there components and adding them up. So formula for dot product is as follows.\n",
    "\n",
    "$$\n",
    "    \\overrightarrow{v} \\bullet \\overrightarrow{w} = \\begin{bmatrix} v_1 \\\\ v_2 \\end{bmatrix} \\bullet \\begin{bmatrix} w_1 \\\\ w_2 \\end{bmatrix} = (v_1 * w_1) + (v_2 * w_2)\n",
    "$$\n",
    "\n",
    "#### Projection of vector on other vector\n",
    "\n",
    "While dot product seems a simple numerical calculation, it has a deeper geometric interpretation. To start with dot product of two vector equals the length of one vector multiplied by the length of projection of other vector onto the first vector. To understand this, let refer to diagram below."
   ]
  },
  {
   "cell_type": "code",
   "execution_count": 25,
   "metadata": {},
   "outputs": [
    {
     "data": {
      "image/png": "[encoded data removed]",
      "text/plain": [
       "<Figure size 432x288 with 1 Axes>"
      ]
     },
     "metadata": {
      "needs_background": "light"
     },
     "output_type": "display_data"
    }
   ],
   "source": [
    "%matplotlib inline\n",
    "\n",
    "import numpy as np\n",
    "import matplotlib.pyplot as plt\n",
    "\n",
    "# Setup plot\n",
    "plt.xticks(np.arange(-5, 6, 1.0))\n",
    "plt.yticks(np.arange(-5, 7, 1.0))\n",
    "plt.xlim(-5, 5)\n",
    "plt.ylim(-5, 6)\n",
    "\n",
    "# Vector\n",
    "V = np.array([[3, 5], [3, 2]])\n",
    "\n",
    "# Axis\n",
    "plt.axhline(0, color='black')\n",
    "plt.axvline(0, color='black')\n",
    "\n",
    "# Plot Vector\n",
    "plt.quiver([0], [0], V[:,0], V[:,1], color=['r'], angles='xy', scale_units='xy', scale=1)\n",
    "plt.quiver([0], [0], 2.25, 3.75, color=['b'], angles='xy', scale_units='xy', scale=1)\n",
    "plt.show()"
   ]
  },
  {
   "cell_type": "markdown",
   "metadata": {},
   "source": [
    "In the above diagram we have two vector $\\overrightarrow{v} = \\begin{bmatrix} 3 \\\\ 5 \\end{bmatrix}$ and $\\overrightarrow{w} = \\begin{bmatrix} 3 \\\\ 2 \\end{bmatrix}$ depicted by red vectors.\n",
    "\n",
    "And the projection of second vector onto the first vector is show by blue vector in the diagram. So the dot product of $\\overrightarrow{v}$ and $\\overrightarrow{w}$ is the product of length of projection of $\\overrightarrow{w}$ onto the vector $\\overrightarrow{v}$ (denoted by blue vector) and the length of first vector ($\\overrightarrow{v}$).\n",
    "\n",
    "$$\n",
    "\\overrightarrow{v} \\bullet \\overrightarrow{w} = (\\text{length of projection of} \\overrightarrow{w} on  \\overrightarrow{v}) * (\\text{length of vector} \\overrightarrow{v}) \n",
    "$$\n",
    "\n",
    "The best part is the order of projection doesn't matter weather we project $\\overrightarrow{v}$ on $\\overrightarrow{w}$ or $\\overrightarrow{w}$ on $\\overrightarrow{v}$.\n",
    "\n",
    "The reason behind it is simple, suppose $\\overrightarrow{v}$ and $\\overrightarrow{w}$ are of same size and we there is a imaginary line between them, as show below."
   ]
  },
  {
   "cell_type": "code",
   "execution_count": 47,
   "metadata": {},
   "outputs": [
    {
     "data": {
      "image/png": "[encoded data removed]",
      "text/plain": [
       "<Figure size 432x288 with 1 Axes>"
      ]
     },
     "metadata": {
      "needs_background": "light"
     },
     "output_type": "display_data"
    }
   ],
   "source": [
    "%matplotlib inline\n",
    "\n",
    "import numpy as np\n",
    "import matplotlib.pyplot as plt\n",
    "\n",
    "# Setup plot\n",
    "plt.xticks(np.arange(-5, 6, 1.0))\n",
    "plt.yticks(np.arange(-5, 7, 1.0))\n",
    "plt.xlim(-5, 5)\n",
    "plt.ylim(-5, 6)\n",
    "\n",
    "# Vector\n",
    "V = np.array([[2, 3.5], [3, 1]])\n",
    "\n",
    "# Axis\n",
    "plt.axhline(0, color='black')\n",
    "plt.axvline(0, color='black')\n",
    "\n",
    "# Plot Vector\n",
    "plt.quiver([0], [0], V[:,0], V[:,1], color=['r'], angles='xy', scale_units='xy', scale=1)\n",
    "\n",
    "\n",
    "# Plot line of symmetry\n",
    "X = np.arange(-5, 6, 1)\n",
    "Y = X * 1\n",
    "plt.plot(X, Y, '--')\n",
    "\n",
    "plt.show()"
   ]
  },
  {
   "cell_type": "markdown",
   "metadata": {},
   "source": [
    "As seen above both the red vectors are of same length and symmetric to each other. Now if we project first vector $\\overrightarrow{v}$ onto the other vector $\\overrightarrow{w}$ it is same projection $\\overrightarrow{w}$ onto the other vector $\\overrightarrow{v}$ by the laws of symmetric.\n",
    "\n",
    "Now suppose we increase the length of vector $\\overrightarrow{v}$ by 2. And then we project $\\overrightarrow{w}$ onto $2\\overrightarrow{v}$. The result dot product would be same as multiplying 2 to the original dot product as the length of projection $\\overrightarrow{w}$ is still the same and only length of $\\overrightarrow{v}$ has scaled by 2.\n",
    "\n",
    "$$ 2\\overrightarrow{v} \\bullet \\overrightarrow{w} = 2 (\\overrightarrow{v} \\bullet \\overrightarrow{w})$$\n",
    "\n",
    "Now consider the other case, we projection the scaled vector $\\overrightarrow{v}$ onto the vector $\\overrightarrow{w}$ the length of $\\overrightarrow{w}$ remains contains and the length of projection of $\\overrightarrow{v}$ is scaled by the same factor through which the vector $\\overrightarrow{v}$ is scaled. Thus it is same as multiplying the dot project by the scaling factor in our case (2). Thus the order of projection doesn't matter if we project first vector on second or second on first.\n",
    "\n",
    "Now the second question that we need to clarify is how this simple product of sum of components of vector are related to the projection of vector.\n",
    "\n",
    "If we look at what the dot product of the vector is, we can view it as normal matrix multiplication of one vector with transpose of other vector. i.e\n",
    "\n",
    "$$\n",
    "\\begin{align}\n",
    "\\overrightarrow{v} \\bullet \\overrightarrow{w} &= \\begin{bmatrix} v_1 \\\\ v_2 \\end{bmatrix} \\bullet \\begin{bmatrix} w_1 \\\\ w_2 \\end{bmatrix} = (v_1 * w_1) + (v_2 * w_2) \\\\\n",
    "\\overrightarrow{v} \\bullet \\overrightarrow{w} &= v^T * w = \\begin{bmatrix} v_1 v_2 \\end{bmatrix} \\bullet \\begin{bmatrix} w_1 \\\\ w_2 \\end{bmatrix} = (v_1 * w_1) + (v_2 * w_2)\n",
    "\\end{align}\n",
    "$$\n",
    "\n",
    "So basically what we do is linearly transform the second vector $\\overrightarrow{w}$ with the transformation matrix $v^T$. For more detail explanation see the following [video](https://www.youtube.com/watch?v=LyGKycYT2v0).\n",
    "\n",
    "#### Importance of sign of dot product.\n",
    "\n",
    "As we have seen that dot product is the product of projection and length of vector, the sign of dot product will be positive if both the vectors are pointing in the same direction and negative if pointing in opposite direction and the dot product will yield to zero, if both are perpendicular to each other, as the length of projection will be zero.\n",
    "\n",
    "# Matrix\n",
    "\n",
    "## Introduction\n",
    "\n",
    "Matrix are essentials when studying linear algebra. So understanding what matrix are is really important. To understand what matrix are we must first under stand what is linear transformation and how we can represent them in vector operation. \n",
    "\n",
    "### Linear Transformation\n",
    "\n",
    "Lets understand what linear transformation is. The word transformation means operation which take one vector as an input and transforms it into other vector. It is similar to that of function which take input and returns a different output. But we call it transformation because with linear transformation we geometrically transform a vector to another vector.\n",
    "\n",
    "So how do we represent such transformation numerically?. We do that by capturing where the vector $\\hat{i}$ that is unit vector in $x$ direction and $\\hat{j}$ vector in $y$ direction lands up after transformation.\n",
    "\n",
    "Without transformation the vector $\\hat{i}$ and $\\hat{j}$ are as follows."
   ]
  },
  {
   "cell_type": "code",
   "execution_count": 3,
   "metadata": {
    "scrolled": true
   },
   "outputs": [
    {
     "data": {
      "image/png": "[encoded data removed]",
      "text/plain": [
       "<Figure size 432x288 with 1 Axes>"
      ]
     },
     "metadata": {
      "needs_background": "light"
     },
     "output_type": "display_data"
    }
   ],
   "source": [
    "%matplotlib inline\n",
    "\n",
    "import numpy as np\n",
    "import matplotlib.pyplot as plt\n",
    "\n",
    "# Setup plot\n",
    "plt.xticks(np.arange(-5, 5, 1.0))\n",
    "plt.yticks(np.arange(-5, 5, 1.0))\n",
    "plt.xlim(-5, 5)\n",
    "plt.ylim(-5, 5)\n",
    "\n",
    "# Axis\n",
    "plt.axhline(0, color='black')\n",
    "plt.axvline(0, color='black')\n",
    "\n",
    "# Vector\n",
    "plt.quiver([0], [0], [0], [1], color=['r'], angles='xy', scale_units='xy', scale=1)\n",
    "plt.quiver([0], [0], [1], [0], color=['b'], angles='xy', scale_units='xy', scale=1)\n",
    "plt.show()"
   ]
  },
  {
   "cell_type": "markdown",
   "metadata": {},
   "source": [
    "\n",
    "But let's assume after after some transformation the $\\hat{i}$ and $\\hat{j}$ handle in position shown below.\n"
   ]
  },
  {
   "cell_type": "code",
   "execution_count": 6,
   "metadata": {},
   "outputs": [
    {
     "data": {
      "image/png": "[encoded data removed]",
      "text/plain": [
       "<Figure size 432x288 with 1 Axes>"
      ]
     },
     "metadata": {
      "needs_background": "light"
     },
     "output_type": "display_data"
    }
   ],
   "source": [
    "%matplotlib inline\n",
    "\n",
    "import numpy as np\n",
    "import matplotlib.pyplot as plt\n",
    "\n",
    "# Setup plot\n",
    "plt.xticks(np.arange(-5, 5, 1.0))\n",
    "plt.yticks(np.arange(-5, 5, 1.0))\n",
    "plt.xlim(-5, 5)\n",
    "plt.ylim(-5, 5)\n",
    "\n",
    "# Axis\n",
    "plt.axhline(0, color='black')\n",
    "plt.axvline(0, color='black')\n",
    "\n",
    "# Vector\n",
    "plt.quiver([0], [0], [1], [-2], color=['b'], angles='xy', scale_units='xy', scale=1)\n",
    "plt.quiver([0], [0], [3], [0], color=['r'], angles='xy', scale_units='xy', scale=1)\n",
    "\n",
    "plt.show()"
   ]
  },
  {
   "cell_type": "markdown",
   "metadata": {},
   "source": [
    "So after transformation new coordinates of $\\hat{i}$ and $\\hat{j}$ becomes $\\begin{bmatrix} 1 \\\\ -2 \\end{bmatrix}$ and $\\begin{bmatrix} 3 \\\\ 0 \\end{bmatrix}$ respectively. \n",
    "\n",
    "Now if we have this information we can calculate where any other vector with components $\\begin{bmatrix} x \\\\ y \\end{bmatrix}$ lands after transformation. We do that by multiplying the $x$ component of the vector with the same number with which unit vector $\\hat{i}$ is scaled and multiplying the $y$ component with the scaling factor of $\\hat{j}$.\n",
    "\n",
    "So to find out any vector after transformation we can do the following.\n",
    "\n",
    "$$\n",
    "\\begin{bmatrix}x \\\\ y \\end{bmatrix} \\Rightarrow x \\begin{bmatrix} 1 \\\\ -2 \\end{bmatrix} + y \\begin{bmatrix} 3 \\\\ 0 \\end{bmatrix} = \\begin{bmatrix} 1x + 3y \\\\ -2x + 0y \\end{bmatrix}\n",
    "$$\n",
    "\n",
    "Thus using the above formula we can calculate the final position of any vector after transformation\n",
    "\n",
    "**Note:** Such transformation are called linear because we only deal with transformation that we get by scaling and adding vectors. More formally linear transformation are those transformation which keep evenly separated points or lines evenly separated even after transformation.\n",
    "\n",
    "\n",
    "### Matrix as Linear Transformation\n",
    "\n",
    "Now we can combine the components needed to a transformation, namely coordinates of $\\hat{i}$ and $\\hat{j}$ into a single unit as below.\n",
    "\n",
    "$$\n",
    "\\begin{bmatrix} 1 & -2 \\\\ 3 & 0 \\end{bmatrix}\n",
    "$$\n",
    "\n",
    "\n",
    "where the first column is $\\hat{i}$ and second column is $\\hat{j}$ and such unit which capture the information of transformation is called **matrix**.\n",
    "\n",
    "Using the above matrix we can find the position of any vector after transformation as shown below.\n",
    "\n",
    "$$\n",
    "\\begin{bmatrix} 1 & -2 \\\\ 3 & 0 \\end{bmatrix}\\begin{bmatrix} x \\\\ y \\end{bmatrix} = x \\begin{bmatrix} 1 \\\\ 3  \\end{bmatrix} + y \\begin{bmatrix} -2 \\\\  0 \\end{bmatrix}\n",
    "$$\n",
    "\n",
    "We can generalize this formula to find the outcome of transformation\n",
    "\n",
    "$$\n",
    "\\begin{bmatrix} a & b \\\\ c & d \\end{bmatrix}\\begin{bmatrix} x \\\\ y \\end{bmatrix} = x \\begin{bmatrix} a \\\\ c  \\end{bmatrix} + y \\begin{bmatrix} b \\\\  d \\end{bmatrix} = \\begin{bmatrix} ax + by \\\\ cx + dy \\end{bmatrix}\n",
    "$$\n",
    "\n",
    "Thus giving us formula for matrix multiplication.\n",
    "\n",
    "\n",
    "## Matrix Multiplication\n",
    "\n",
    "We have a already seen how to multiply/transpose vector by a matrix. But what is means to multiply matrix by matrix and what it signifies.\n",
    "\n",
    "### Composition of Linear Combination\n",
    "\n",
    "Suppose we have two matrix $\\begin{bmatrix} a & b \\\\ c & d \\end{bmatrix}$ and $\\begin{bmatrix} e & f \\\\ g & h \\end{bmatrix}$ and we apply both of these transformation to a vector $\\begin{bmatrix} x \\\\ y \\end{bmatrix}$\n",
    "\n",
    "We get the something as following.\n",
    "\n",
    "$$\n",
    "\\begin{bmatrix} a & b \\\\ c & d \\end{bmatrix} \\left ( \\begin{bmatrix} e & f \\\\ g & h \\end{bmatrix} \\begin{bmatrix} x \\\\ y \\end{bmatrix} \\right )\n",
    "$$\n",
    "\n",
    "That is, first applying the $\\begin{bmatrix} e & f \\\\ g & h \\end{bmatrix}$ transformation and the applying $\\begin{bmatrix} a & b \\\\ c & d \\end{bmatrix}$ transformation.\n",
    "\n",
    "But, we can apply a single transformation which can be combination of both of the transformation\n",
    "\n",
    "\n",
    "$$\n",
    "\\begin{bmatrix} a & b \\\\ c & d \\end{bmatrix} \\begin{bmatrix} e & f \\\\ g & h \\end{bmatrix}  \n",
    "$$\n",
    "\n",
    "Now, if we look the above transformation, the column $\\begin{bmatrix} e  \\\\ g  \\end{bmatrix}$ represents the value of $\\hat{i}$ after first transformation and column $\\begin{bmatrix} f  \\\\ h  \\end{bmatrix}$ represents the value of $\\hat{j}$ after first transformation. So considering the columns as new position for $\\hat{i}$ and $\\hat{j}$ we can compute the final matrix for transformation as follow.\n",
    "\n",
    "For $\\hat{i}$ it become\n",
    "\n",
    "$$\n",
    "\\begin{bmatrix} a & b \\\\ c & d \\end{bmatrix} \\begin{bmatrix} e  \\\\ g \\end{bmatrix}  =  \\begin{bmatrix} ae + bg  \\\\ ce + dg \\end{bmatrix}\n",
    "$$\n",
    "\n",
    "For $\\hat{j}$ it become\n",
    "\n",
    "$$\n",
    "\\begin{bmatrix} a & b \\\\ c & d \\end{bmatrix} \\begin{bmatrix} f  \\\\ h \\end{bmatrix}  =  \\begin{bmatrix} af + bh  \\\\ cf + dh \\end{bmatrix}\n",
    "$$\n",
    "\n",
    "Thus the final transformation matrix becomes.\n",
    "\n",
    "$$\n",
    "\\begin{bmatrix} a & b \\\\ c & d \\end{bmatrix} \\begin{bmatrix} e & f  \\\\ g & h \\end{bmatrix}  =  \\begin{bmatrix}ae + bg & af + bh  \\\\ ce + dg & cf + dh \\end{bmatrix}\n",
    "$$\n",
    "\n",
    "Thus giving us the formula for matrix multiplication.\n",
    "\n",
    "\n",
    "We can infer one more thing from the matrix multiplication, that is the order of multiplication matter. Because first sheering and the rotating the vector will give you a different outcome than first rotating and sheering the vector. So $A*B \\neq B*A$\n",
    "\n",
    "### Dot Product\n",
    "\n",
    "We can formulate the above multiplication calculation in another way. Let assume we have two matrix $A_{MxN}$ where $M$ is the number of rows and $N$ is the number of columns and we have $B_{NxP}$ where $N$ is the number of rows and $P$ is the number of columns.\n",
    "\n",
    "As we can see to multiply matrix's the number of row of left hand side matrix must match the number of column of right hand side matrix. The final matrix lets call is $C$ will have dimension of $MxP$\n",
    "\n",
    "Now if we consider a individual indices of the result matrix lets say, $C_{2x3}$. That is, the number in second row and third column. We can represent that number as the dot product of second row of $A$ and third column of $B$.\n",
    "\n",
    "$$\n",
    "\\begin{align*}\n",
    "C_{2X3} &= (2^{nd}\\text{ row of A}) \\bullet (3^{rd} \\text{ column of B}) \\\\\n",
    "C_{2x3} &= A_{2x1} + B_{1x3} + A_{2x2} + B_{2x3} + A_{2x3} + B_{3x3} + .....\n",
    "\\end{align*}\n",
    "$$\n",
    "\n",
    "We can formalize a general equation of any index of $C$ as follows\n",
    "\n",
    "$$\n",
    "C_{IxJ} = \\sum\\limits_{K=1}^{N} A_{IxK} + B_{KxJ}\n",
    "$$\n",
    "\n",
    "\n",
    "### Column Multiplication\n",
    "\n",
    "Another way to look at matrix multiplication is to look at a column at a time. Suppose we have same matrix $A$ and $B$ with us.\n",
    "\n",
    "$$\n",
    "\\begin{bmatrix} a & b \\\\ c & d \\end{bmatrix} \\begin{bmatrix} e & f \\\\ g & h \\end{bmatrix}\n",
    "$$\n",
    "\n",
    "Now if we consider what will come in the first column of $C$. We can say that the first column of $C$ consists of Matrix $A$ multiplied by the first column of $B$. And we already know how to multiple a matrix and a vector.\n",
    "\n",
    "So we can think of first column of $C$ consisting of combination of columns of $A$ and in what combination is given by the first column of $B$.\n",
    "\n",
    "So this is the way of multiplying matrix column at a time.\n",
    "\n",
    "### Row Multiplication\n",
    "\n",
    "Similarly we can look at matrix multiplication at a single row at a time. \n",
    "\n",
    "We can thing of first row of $C$ as the multiplication of row of $A$ with the matrix $B$. \n",
    "\n",
    "Thus the row of $C$ is combination of rows of $B$ and what combination is given by row of $A$.\n",
    "\n",
    "**Note:** Multiplication on left multiplies column and multiplication of right multiplies rows.\n",
    "\n",
    "# Elimination Method\n",
    "\n",
    "## Introduction\n",
    "\n",
    "## Solving Equation with Elimination\n",
    "\n",
    "## Inverse of Matrix"
   ]
  }
 ],
 "metadata": {
  "kernelspec": {
   "display_name": "Python 3",
   "language": "python",
   "name": "python3"
  },
  "language_info": {
   "codemirror_mode": {
    "name": "ipython",
    "version": 3
   },
   "file_extension": ".py",
   "mimetype": "text/x-python",
   "name": "python",
   "nbconvert_exporter": "python",
   "pygments_lexer": "ipython3",
   "version": "3.6.8"
  },
  "note_info": {
   "description": "Introduction to Linear Algebra",
   "image": "static/img/notes/mathematics/intro-linear-algebra/logo.png",
   "slug": "intro-linear-algebra",
   "title": "Introduction To Linear Algebra"
  },
  "toc": {
   "base_numbering": 1,
   "nav_menu": {},
   "number_sections": true,
   "sideBar": true,
   "skip_h1_title": false,
   "title_cell": "Table of Contents",
   "title_sidebar": "Contents",
   "toc_cell": false,
   "toc_position": {},
   "toc_section_display": true,
   "toc_window_display": false
  }
 },
 "nbformat": 4,
 "nbformat_minor": 2
}
