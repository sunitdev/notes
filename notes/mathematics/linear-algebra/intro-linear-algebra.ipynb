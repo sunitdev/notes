{
 "cells": [
  {
   "cell_type": "markdown",
   "metadata": {},
   "source": [
    "# Introduction\n",
    "\n",
    "Linear Algebra is a branch of mathematic which deals with solving linear equation. Mostly importantly it deals with vector and their **linear combinations** like addition, subtraction, multiplication and division. So before reading about linear algebra we will get ourself acquainted with vector.\n",
    "\n",
    "# Vectors\n",
    "\n",
    "## Definition\n",
    "\n",
    "Broadly speaking there are three ways of looking at vector. Each of them suites different needs depending on the type of application.\n",
    "\n",
    "### Arrow in Space.\n",
    "\n",
    "One way of conceptualizing vector is an arrow in space starting from the origin to the a particular coordinate in space. For example, We can thing of vector $\\begin{bmatrix} 2 \\\\ 4 \\end{bmatrix}$ as shown in digram below."
   ]
  },
  {
   "cell_type": "code",
   "execution_count": 45,
   "metadata": {},
   "outputs": [
    {
     "data": {
      "image/png": "[encoded data removed]",
      "text/plain": [
       "<Figure size 432x288 with 1 Axes>"
      ]
     },
     "metadata": {
      "needs_background": "light"
     },
     "output_type": "display_data"
    }
   ],
   "source": [
    "##### %matplotlib inline\n",
    "\n",
    "import numpy as np\n",
    "import matplotlib.pyplot as plt\n",
    "\n",
    "# Setup plot\n",
    "plt.xticks(np.arange(-5, 6, 1.0))\n",
    "plt.yticks(np.arange(-5, 6, 1.0))\n",
    "plt.xlim(-5, 5)\n",
    "plt.ylim(-5, 5)\n",
    "\n",
    "# Axis\n",
    "plt.axhline(0, color='black')\n",
    "plt.axvline(0, color='black')\n",
    "\n",
    "# Vector\n",
    "plt.quiver([0], [0], [2], [4], color=['r'], angles='xy', scale_units='xy', scale=1)\n",
    "plt.show()\n",
    "\n"
   ]
  },
  {
   "cell_type": "markdown",
   "metadata": {},
   "source": [
    "As we can see vector is represented by a line from the origin $(0, 0)$ to the point in space $(2, 4)$, where $2$ is the first component of the vector or 1st dimension and $4$ is the second component of the vector or the second dimension. Understanding how vectors are represented geometrically is crucial to understanding the underline concepts of linear algebra.\n",
    "\n",
    "### Point is space.\n",
    "\n",
    "Other way of long at vector $\\begin{bmatrix} 2 \\\\ 4 \\end{bmatrix}$ is to consider the components of a vector as coordinates of a point in space. As shown in diagram below. "
   ]
  },
  {
   "cell_type": "code",
   "execution_count": 50,
   "metadata": {},
   "outputs": [
    {
     "data": {
      "image/png": "[encoded data removed]",
      "text/plain": [
       "<Figure size 432x288 with 1 Axes>"
      ]
     },
     "metadata": {
      "needs_background": "light"
     },
     "output_type": "display_data"
    }
   ],
   "source": [
    "##### %matplotlib inline\n",
    "\n",
    "import numpy as np\n",
    "import matplotlib.pyplot as plt\n",
    "\n",
    "# Setup plot\n",
    "plt.xticks(np.arange(-5, 6, 1.0))\n",
    "plt.yticks(np.arange(-5, 6, 1.0))\n",
    "plt.xlim(-5, 5)\n",
    "plt.ylim(-5, 5)\n",
    "\n",
    "# Axis\n",
    "plt.axhline(0, color='black')\n",
    "plt.axvline(0, color='black')\n",
    "\n",
    "# Vector\n",
    "plt.plot([2], [4], marker='o', markersize=3, color=\"red\")\n",
    "plt.show()"
   ]
  },
  {
   "cell_type": "markdown",
   "metadata": {},
   "source": [
    "### List of numbers\n",
    "\n",
    "This is computer science or computational perspective of vectors. Vectors can be thought of list of number written in a column format. Thus a vector $\\begin{bmatrix} 2 \\\\ 4 \\end{bmatrix}$ has two numbers or components $2$ and $4$ respectively.\n",
    "\n",
    "## Operations on Vector\n",
    "\n",
    "Irrespective of vector are conceptualized, we can perform some common operation on vector. We will see some on those operation and what they mean geometrically.\n",
    "\n",
    "### Addition and Subtraction.\n",
    "\n",
    "Addition and subtraction of vector is as simple as adding the components of vector. Suppose we have two vectors $v = \\begin{bmatrix} v_1 \\\\ v_2 \\end{bmatrix}$ with two components $v_1$ and $v_2$ and other vector $w = \\begin{bmatrix} w_1 \\\\ w_2 \\end{bmatrix}$ with two components $w_1$ and $w_2$. Then the addition and subtraction of vector $v$ and $w$ is simple the addition or subtraction of the components.\n",
    "\n",
    "$$\n",
    "    v + w = \\begin{bmatrix} v_1 \\\\ v_2 \\end{bmatrix} + \\begin{bmatrix} w_1 \\\\ w_2 \\end{bmatrix} = \\begin{bmatrix} v_1 + w_1 \\\\ v_2 + w_2 \\end{bmatrix}\n",
    "$$\n",
    "\n",
    "For example, let $v = \\begin{bmatrix} 2 \\\\ 3 \\end{bmatrix}$ and let $ w = \\begin{bmatrix} -1 \\\\ 2 \\end{bmatrix}$ then.\n",
    "\n",
    "$$\n",
    "v + w = \\begin{bmatrix} 2 \\\\ 3 \\end{bmatrix} + \\begin{bmatrix} -1 \\\\ 2 \\end{bmatrix} = \\begin{bmatrix} 2 + (-1) \\\\ 3 + 2 \\end{bmatrix} = \\begin{bmatrix} 1 \\\\ 5 \\end{bmatrix}\n",
    "$$\n",
    "\n",
    "Geometrically, we can see components of vector as unit of director in each dimension. For two dimension it is mainly **x** and **y** axis. So vector $v = \\begin{bmatrix} 2 \\\\ 3 \\end{bmatrix}$ here means 2 unit in x-axis and 3 unit in y-axis. So when we add vector we can visualize it as if we have placed the second vector at the end of first vector (indicated by blue vector) and then the point at the end of second vector is the sum of first and second vector (indicated by green vector). As shown in diagram below. So vector can also be thought as unit of movement in a given direction. where negative number suggest movement in opposite direction."
   ]
  },
  {
   "cell_type": "code",
   "execution_count": 31,
   "metadata": {},
   "outputs": [
    {
     "data": {
      "image/png": "[encoded data removed]",
      "text/plain": [
       "<Figure size 432x288 with 1 Axes>"
      ]
     },
     "metadata": {
      "needs_background": "light"
     },
     "output_type": "display_data"
    }
   ],
   "source": [
    "import numpy as np\n",
    "import matplotlib.pyplot as plt\n",
    "\n",
    "# Setup plot\n",
    "plt.xticks(np.arange(-5, 6, 1.0))\n",
    "plt.yticks(np.arange(-5, 7, 1.0))\n",
    "plt.xlim(-5, 5)\n",
    "plt.ylim(-5, 6)\n",
    "\n",
    "# Vector\n",
    "V = np.array([[2, 3], [-1, 2]])\n",
    "result = V[0] + V[1]\n",
    "\n",
    "# Axis\n",
    "plt.axhline(0, color='black')\n",
    "plt.axvline(0, color='black')\n",
    "\n",
    "# Plot Vector\n",
    "plt.quiver([0], [0], V[:,0], V[:,1], color=['r', 'r'], angles='xy', scale_units='xy', scale=1)\n",
    "plt.quiver(V[0][0], V[0][1], V[1][0], V[1][1], color=['b'], angles='xy', scale_units='xy', scale=1)\n",
    "plt.quiver([0], [0], result[0], result[1], color=['g'], angles='xy', scale_units='xy', scale=1)\n",
    "plt.show()"
   ]
  },
  {
   "cell_type": "markdown",
   "metadata": {},
   "source": [
    "Similarly we can compute subtraction. So the general formula for two dimension vector is.\n",
    "\n",
    "$$\n",
    "v \\pm w = \\begin{bmatrix} v_1 \\\\ v_2 \\end{bmatrix} \\pm \\begin{bmatrix} w_1 \\\\ w_2 \\end{bmatrix} = \\begin{bmatrix} v_1 \\pm w_1 \\\\ v_2 \\pm w_2 \\end{bmatrix}\n",
    "$$\n",
    "\n",
    "### Scaler Multiplication\n",
    "\n",
    "Other common operations which we can perform on vector is multiplying it with a number also called as scaling, because when we multiple a vector by a number we are scaling the vector by that number, as shown in the diagram.\n",
    "For example, let $v$ be a vector and let $a$ be a number, then\n",
    "$$\n",
    "V * a = \\begin{bmatrix} v_1 * a \\\\ v_2 * a \\end{bmatrix}\n",
    "$$\n",
    "\n",
    "Thus\n",
    "\n",
    "$$\n",
    "\\begin{bmatrix} -1 \\\\ 2 \\end{bmatrix} * 2 = \\begin{bmatrix} -2 \\\\ 4 \\end{bmatrix}\n",
    "$$\n",
    "\n",
    "Depicted in diagram below."
   ]
  },
  {
   "cell_type": "code",
   "execution_count": 34,
   "metadata": {},
   "outputs": [
    {
     "data": {
      "image/png": "[encoded data removed]",
      "text/plain": [
       "<Figure size 432x288 with 1 Axes>"
      ]
     },
     "metadata": {
      "needs_background": "light"
     },
     "output_type": "display_data"
    }
   ],
   "source": [
    "import numpy as np\n",
    "import matplotlib.pyplot as plt\n",
    "\n",
    "# Setup plot\n",
    "plt.xticks(np.arange(-5, 6, 1.0))\n",
    "plt.yticks(np.arange(-5, 7, 1.0))\n",
    "plt.xlim(-5, 5)\n",
    "plt.ylim(-5, 6)\n",
    "\n",
    "# Vector\n",
    "V = np.array([-1, 2])\n",
    "result = V * 2\n",
    "\n",
    "# Axis\n",
    "plt.axhline(0, color='black')\n",
    "plt.axvline(0, color='black')\n",
    "\n",
    "# Plot Vector\n",
    "plt.quiver([0], [0], result[0], result[1], color=['g'], angles='xy', scale_units='xy', scale=1)\n",
    "plt.quiver([0], [0], V[0], V[1], color=['r'], angles='xy', scale_units='xy', scale=1)\n",
    "plt.show()"
   ]
  }
 ],
 "metadata": {
  "kernelspec": {
   "display_name": "Python 3",
   "language": "python",
   "name": "python3"
  },
  "language_info": {
   "codemirror_mode": {
    "name": "ipython",
    "version": 3
   },
   "file_extension": ".py",
   "mimetype": "text/x-python",
   "name": "python",
   "nbconvert_exporter": "python",
   "pygments_lexer": "ipython3",
   "version": "3.6.8"
  },
  "note_info": {
   "description": "Introduction to Linear Algebra",
   "image": "static/img/notes/mathematics/intro-linear-algebra/logo.png",
   "slug": "intro-linear-algebra",
   "title": "Introduction To Linear Algebra"
  },
  "toc": {
   "base_numbering": 1,
   "nav_menu": {},
   "number_sections": true,
   "sideBar": true,
   "skip_h1_title": false,
   "title_cell": "Table of Contents",
   "title_sidebar": "Contents",
   "toc_cell": false,
   "toc_position": {},
   "toc_section_display": true,
   "toc_window_display": false
  }
 },
 "nbformat": 4,
 "nbformat_minor": 2
}
