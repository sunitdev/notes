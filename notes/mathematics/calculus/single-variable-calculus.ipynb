{
 "cells": [
  {
   "cell_type": "markdown",
   "metadata": {},
   "source": [
    "# Introduction\n",
    "\n",
    "**Calculus** word comes latin word *calculus* which means *small pebble*. Calculus is a study of continuous change, it is study of how to divide an larger area into smaller parts (pebble) and then use them as a whole to calculate the overall area.\n",
    "\n",
    "Calculus is divided into two parts, **Differential Calculus**, which deal is rate of change of entities and **Integral Calculus** which deals with finding area under a curve. Both of these are connected to each other by a beautiful theorem called the **fundamental theorem of calculus**.\n",
    "\n",
    "So overall calculus theorem and computations can be performed on multiple variables, In this notes we will only concern ourselves with two variable namely $X$ and $Y$. This smaller subsection of calculus in which we consider only one variable at a time is called **Single Variable Calculus**."
   ]
  }
 ],
 "metadata": {
  "kernelspec": {
   "display_name": "Python 3",
   "language": "python",
   "name": "python3"
  },
  "language_info": {
   "codemirror_mode": {
    "name": "ipython",
    "version": 3
   },
   "file_extension": ".py",
   "mimetype": "text/x-python",
   "name": "python",
   "nbconvert_exporter": "python",
   "pygments_lexer": "ipython3",
   "version": "3.6.8"
  },
  "note_info": {
   "description": "Single Variable Calculus notes for the book Thoma's Calculus",
   "image": "static/img/notes/mathematics/single-varaible-calculus/logo.jpg",
   "slug": "single-variable-calculus",
   "title": "Single Variable Calculus"
  },
  "toc": {
   "base_numbering": 1,
   "nav_menu": {},
   "number_sections": true,
   "sideBar": true,
   "skip_h1_title": false,
   "title_cell": "Table of Contents",
   "title_sidebar": "Contents",
   "toc_cell": false,
   "toc_position": {},
   "toc_section_display": true,
   "toc_window_display": false
  }
 },
 "nbformat": 4,
 "nbformat_minor": 2
}
