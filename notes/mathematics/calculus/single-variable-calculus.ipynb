{
 "cells": [
  {
   "cell_type": "markdown",
   "metadata": {},
   "source": [
    "# Introduction\n",
    "\n",
    "**Calculus** word comes latin word *calculus* which means *small pebble*. Calculus is a study of continuous change, it is study of how to divide an larger area into smaller parts (pebble) and then use them as a whole to calculate the overall area.\n",
    "\n",
    "Calculus is divided into two parts, **Differential Calculus**, which deal is rate of change of entities and **Integral Calculus** which deals with finding area under a curve. Both of these are connected to each other by a beautiful theorem called the **fundamental theorem of calculus**.\n",
    "\n",
    "So overall calculus theorem and computations can be performed on multiple variables, In this notes we will only concern ourselves with two variable namely $X$ and $Y$. This smaller subsection of calculus in which we consider only one variable at a time is called **Single Variable Calculus**.\n",
    "\n",
    "# Functions\n",
    "\n",
    "We generally represent our daily life arithmetics in form of mathematical equation. For example, If you get 5 candies for 2 bucks, (You get one candy extra because you know calculus :) you would write this equation something like this.\n",
    "\n",
    "$$ y = 2x + 1 $$\n",
    "\n",
    "where $x$ is the unit of currency you have and $y$ is the number of candies you will get.\n",
    "\n",
    "In this equation, there are two variable $x$ and $y$. You can plug in any random value in $x$ but the value of $y$ depends upon the value of $x$ you plugged in. So here $x$ is called as **Independent Variable**, which can take any value. And $y$ is called the **Dependent Variable**, because the value of $y$ depends on the value of $x$.\n",
    "\n",
    "So, in our normal vocabulary we could say that *\"$y$ is **dependent** on $x$\"* and in mathematical terms we would say that *\"$y$ is a **function** of $x$\"* denoted by, $f(y) = x$. \n",
    "\n",
    "$$f(y) = y = 2x + 1 $$\n",
    "\n",
    "Thus function represent dependencies between variable, or relationship between the variable. For each input value of $x$ there is a output value $y$.\n",
    "\n",
    "Not every equation is function, a function must assign a *unique* element $(y)$ to each input element $(x)$.\n",
    "\n",
    "## Properties of functions.\n",
    "\n",
    "Any function will have following set of properties associated with it.\n",
    "\n",
    "### Domain and Range\n",
    "\n",
    "A function $f$ from a set $D$ to a set $y$ is a rule that assigns a unique (single) element $f(x) \\in y$ to each element $x \\in D$.\n",
    "\n",
    "The set $D$ of all possible input values is called the **domain** of the function and the set of all values of $f(x)$ as $x$ varies throughout $D$ is called the **range** of the function.\n",
    "\n",
    "### Vertical Line Test\n",
    "\n",
    "Not every curve in coordinate plane can be the graph of a function. A function $f$ can have only one value $f(x)$ for each $x$ in its domain, so *no vertical line* can intersect the graph of a function more than onces. If $a$ is in the domain of the function $f$, then vertical line $x=a$ will intersect the graph of $f$ at the single point $(a, f(a))$. \n",
    "\n",
    "For example, equation $x^2 + y^2 = 1$ cant be a function, as line $x = 0.5$ intersects the graph at more that one points."
   ]
  },
  {
   "cell_type": "code",
   "execution_count": 2,
   "metadata": {},
   "outputs": [
    {
     "data": {
      "image/png": "[encoded data removed]",
      "text/plain": [
       "<Figure size 432x288 with 1 Axes>"
      ]
     },
     "metadata": {
      "needs_background": "light"
     },
     "output_type": "display_data"
    }
   ],
   "source": [
    "import numpy as np\n",
    "import matplotlib.pyplot as plt\n",
    "\n",
    "# Draw circle\n",
    "x = np.linspace(-1.0, 1.0, 100)   # X coordinates\n",
    "y = np.linspace(-1.0, 1.0, 100)   # Y coordinates\n",
    "X, Y = np.meshgrid(x,y)           # Converting to 2 dimensional array for ploating \n",
    "F = X**2 + Y**2 - 1               # Circle equation\n",
    "plt.contour(X,Y,F,[0])            # Plot 3d surface and take the \n",
    "\n",
    "# Draw line\n",
    "x = np.ones(5) * 0.5\n",
    "y = np.linspace(-1.0, 1.0, 5)\n",
    "plt.plot(x, y, markevery=[-0.5, 0.5])\n",
    "\n",
    "# Plot options\n",
    "plt.gca().set_aspect('equal')     # Set image scale to equal\n",
    "plt.grid(True)                    # Show grid\n",
    "\n",
    "plt.show()\n"
   ]
  },
  {
   "cell_type": "markdown",
   "metadata": {},
   "source": [
    "In the above diagram the line $x=0.5$ intersects the equation graph at two points, thus the given equation is not a function.\n",
    "\n",
    "## Types of functions\n",
    "\n",
    "Functions can be classified into multiple categories.\n",
    "\n",
    "### Piecewise-Defined functions\n",
    "\n",
    "Some functions are described by using different formulas on different parts of its domain, such functions are called **Piecewise-defined function**. For example,\n",
    "\n",
    "$$\n",
    "\\left|x\\right| =\n",
    "\\begin{cases}\n",
    "x,  & x \\geq 0 \\\\\n",
    "-x, & x < 0\n",
    "\\end{cases}\n",
    "$$\n",
    "\n",
    "### Increasing and Decreasing functions\n",
    "\n",
    "Let $f$ be a function defined on an interval $l$ and let $x_1$ and $x_2$ be any two points in $l$, then,\n",
    "\n",
    "1. If $f(x_2) > f(x_1)$ whenever $x_1 < x_2$, then $f$ is said to be **increasing** on $l$.\n",
    "2. If $f(x_2) < f(x_1)$ whenever $x_1 < x_2$, then $f$ is said to be **decreasing** on $l$.\n",
    "\n",
    "### Even and Odd functions\n",
    "\n",
    "A function in said to be **even** if following condition holds in its entire domain.\n",
    "\n",
    "$$ f(-x) = f(x) $$\n",
    "\n",
    "And a function is said to be **odd** if following condition holds in its entire domain.\n",
    "\n",
    "$$ f(-x) = -f(x) $$\n",
    "\n",
    "### Linear functions\n",
    "\n",
    "A function of the form $f(x) = mx + b$ where $m$ and $b$ are constants is called **linear function**. For example, $f(x) = 2x + 1$ or $f(x) = 1/2 x$\n",
    "\n",
    "### Power functions\n",
    "\n",
    "A function $f(x) = x^a$, where $a$ is a constant, is called a **power function**. For example $f(x) = x^2$.\n",
    "\n",
    "### Rational function\n",
    "\n",
    "A **rational function** is a quotient or ratio $f(x)= p(x)/q(x)$ where $p$ and $q$ are polynomials. For example, $f(x) = (2x^2 -3)/ (7x + 4)$\n",
    "\n",
    "### Algebraic functions\n",
    "\n",
    "Any function constructed from polynomials using algebraic operations (Add, subtract, divide, multiple, square root etc) lies within the class of **algebraic function**. For example $f(x)=x^{1/3}(x-4)$\n",
    "\n",
    "### Trigonometric functions\n",
    "\n",
    "The six basic trigonometric functions $sin(x), cos(x), tan(x), cosec(x), sec(x)$ and $cot(x)$ fall under this category."
   ]
  }
 ],
 "metadata": {
  "kernelspec": {
   "display_name": "Python 3",
   "language": "python",
   "name": "python3"
  },
  "language_info": {
   "codemirror_mode": {
    "name": "ipython",
    "version": 3
   },
   "file_extension": ".py",
   "mimetype": "text/x-python",
   "name": "python",
   "nbconvert_exporter": "python",
   "pygments_lexer": "ipython3",
   "version": "3.6.8"
  },
  "note_info": {
   "description": "Single Variable Calculus notes for the book Thoma's Calculus",
   "image": "static/img/notes/mathematics/single-varaible-calculus/logo.jpg",
   "slug": "single-variable-calculus",
   "title": "Single Variable Calculus"
  },
  "toc": {
   "base_numbering": 1,
   "nav_menu": {},
   "number_sections": true,
   "sideBar": true,
   "skip_h1_title": false,
   "title_cell": "Table of Contents",
   "title_sidebar": "Contents",
   "toc_cell": false,
   "toc_position": {},
   "toc_section_display": true,
   "toc_window_display": false
  }
 },
 "nbformat": 4,
 "nbformat_minor": 2
}
