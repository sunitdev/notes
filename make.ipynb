{
 "cells": [
  {
   "cell_type": "markdown",
   "metadata": {
    "kernel": "SoS"
   },
   "source": [
    "# Make\n",
    "\n",
    "This notebook contains code to covert ipynb notes to a renderable website which is hosted on github pages. You can see the final outcome of this project at [sunitdeshpande.github.io/notes](https://sunitdeshpande.github.io/notes/)"
   ]
  },
  {
   "cell_type": "markdown",
   "metadata": {
    "kernel": "SoS"
   },
   "source": [
    "# Introduction\n",
    "\n",
    "This make notebook contains instruction for installation of the project and all code to convert the ipynb notebook to a full renderable HTML website.\n",
    "\n",
    "## Installation\n",
    "\n",
    "Following the following steps to install the project.\n",
    "\n",
    "1. Create a virtual environment with conda ```conda create --name <some_name> --file=environment.yml```\n",
    "\n",
    "## Project Structure\n",
    "\n",
    " - ```dist``` - Auto generated folder, contains the final HTML version of notes.\n",
    " - ```notes``` - All the notes must be stored in this folder.\n",
    " - ```static``` - Static assets of the project like images, stylesheet, javascripts etc.\n",
    " - ```template``` - HTML template for index and notes page as well has template for HTML converter must be stored here.\n",
    " - ```index.html``` - Auto generate index page of the website.\n",
    " \n",
    "\n",
    "## Creating Notes\n",
    "\n",
    "Notes must be created under ```notes``` directory. Under ```notes``` directory any folder structure can be followed. The final HTML file to be generate will be created with same parents folder. So the folder structure must match the URL pattern that is expected for the note. The code below will find any ```.ipynb``` file and use it as a candidate to convert to HTML.\n",
    "\n",
    "Each note must contain the following metadata which will be used in the final conversion process.\n",
    "\n",
    "```\n",
    "{\n",
    "    \"notes_info\": {\n",
    "        \"title\": \"Title of the note\",\n",
    "        \"description\": \"Description of the note\",\n",
    "        \"image\": \"Image of the note to shown\",\n",
    "        \"slug\": \"(Optional) Slug of the note to be used as HTML filename\"\n",
    "    }\n",
    "}\n",
    "```\n",
    "\n",
    "After creating the note. Run the code below in sequence and a ```dist``` folder must be created with all notes converted to html in it and also ```index.html``` will be create in the projects root directory."
   ]
  },
  {
   "cell_type": "markdown",
   "metadata": {
    "kernel": "SoS"
   },
   "source": [
    "# Code\n",
    "\n",
    "Code to convert .ipynb file to static html website.\n",
    "\n",
    "\n",
    "## Cleaner\n",
    "\n",
    "Cleans auto generated directories"
   ]
  },
  {
   "cell_type": "code",
   "execution_count": 2,
   "metadata": {
    "code_folding": [],
    "kernel": "SoS"
   },
   "outputs": [],
   "source": [
    "import shutil\n",
    "\n",
    "class Cleaner(object):\n",
    "\n",
    "    __DELETE_LIST = [\n",
    "        'dist',\n",
    "        'index.html'\n",
    "    ]\n",
    "\n",
    "    @staticmethod\n",
    "    def clean():\n",
    "        [\n",
    "            shutil.rmtree(path) if os.path.isdir(path) else os.remove(path)\n",
    "            for path in Cleaner.__DELETE_LIST \n",
    "            if os.path.exists(path)\n",
    "        ]"
   ]
  },
  {
   "cell_type": "markdown",
   "metadata": {
    "kernel": "SoS"
   },
   "source": [
    "## Code Highlighter Filter\n",
    "\n",
    "Jinja 2 filter to syntax highlight code block"
   ]
  },
  {
   "cell_type": "code",
   "execution_count": 3,
   "metadata": {
    "kernel": "SoS"
   },
   "outputs": [],
   "source": [
    "from pygments import highlight\n",
    "from pygments.formatters import HtmlFormatter\n",
    "\n",
    "from pygments.lexers.jvm import JavaLexer\n",
    "from pygments.lexers.javascript import TypeScriptLexer\n",
    "from pygments.lexers import PythonLexer\n",
    "\n",
    "class CodeHighlighterFilter(object):\n",
    "\n",
    "    __KERNEL_LEXER_MAPPING = {\n",
    "        'scijava': JavaLexer,\n",
    "        'typescript': TypeScriptLexer\n",
    "    }\n",
    "    \n",
    "    __DEFAULT_LEXER_CLASS = PythonLexer\n",
    "\n",
    "    def __call__(self, source, *args, **kwargs):\n",
    "        \n",
    "        lexer_class = self.__KERNEL_LEXER_MAPPING.get(kwargs.get('metadata', {}).get('kernel', None), self.__DEFAULT_LEXER_CLASS)\n",
    "        \n",
    "        return highlight(source, \n",
    "                        lexer_class(),\n",
    "                        HtmlFormatter())"
   ]
  },
  {
   "cell_type": "markdown",
   "metadata": {
    "kernel": "SoS"
   },
   "source": [
    "## Coverter\n",
    "\n",
    "Convert is a class which converts ipynb to other formats. The follow of the convert is as follows.\n",
    "\n",
    "* Create appropriate folder under **dist** directory, if not exists.\n",
    "* Covert .ipynb files to other format\n"
   ]
  },
  {
   "cell_type": "code",
   "execution_count": 13,
   "metadata": {
    "code_folding": [],
    "kernel": "SoS"
   },
   "outputs": [],
   "source": [
    "import os\n",
    "import re\n",
    "import shutil\n",
    "import glob\n",
    "\n",
    "from bs4 import BeautifulSoup\n",
    "from jinja2 import Template\n",
    "\n",
    "import nbconvert\n",
    "import nbformat\n",
    "from nbconvert.preprocessors import ExecutePreprocessor\n",
    "\n",
    "\n",
    "class HTMLConverter(object):\n",
    "\n",
    "    __STATIC_ASSETS_PREFIX = '/notes'\n",
    "    \n",
    "    __PATH_NOTEBOOK_TEMPLATE = 'template/note.tpl'\n",
    "    __PATH_NOTE_TEMPLATE = 'template/note.html'\n",
    "    __PATH_INDEX_TEMPLATE = 'template/index.html'\n",
    "    __PATH_NOTES_FOLDER = 'notes'\n",
    "    __PATH_STATIC_FOLDER = 'static'\n",
    "    __PATH_OUTPUT_FOLDER = 'dist'    \n",
    "\n",
    "    __OUTPUT_FOLDER_PREFIX = 'html'\n",
    "    __OUTPUT_INDEX_FILE_PATH = 'dist/index.html'\n",
    "\n",
    "    __METADATA_NOTEBOOK_KEY = 'note_info'\n",
    "\n",
    "    __html_exporter = None\n",
    "    __execute_preprocessor = None;\n",
    "\n",
    "\n",
    "    @property\n",
    "    def html_exporter(self):\n",
    "        # Create singletion html exporter\n",
    "        if self.__html_exporter is None:        \n",
    "            self.__html_exporter = nbconvert.HTMLExporter()\n",
    "            self.__html_exporter.template_file = self.__PATH_NOTEBOOK_TEMPLATE\n",
    "            self.__html_exporter.filters['highlight_code'] = CodeHighlighterFilter()\n",
    "\n",
    "        return self.__html_exporter\n",
    "\n",
    "\n",
    "    def convert(self):\n",
    "        generated_notes = []\n",
    "\n",
    "        for filepath in self.__get_all_ipynb_files():\n",
    "\n",
    "            outputdir_path = self.__create_output_dir(filepath)\n",
    "            \n",
    "            notebook, metadata = self.__read_ipynb_file(filepath)\n",
    "            \n",
    "            body, resources = self.__convert_ipynb_notebook(notebook)\n",
    "            \n",
    "            output_file = self.__write_output_file(outputdir_path, metadata, body, resources)\n",
    "\n",
    "            generated_notes.append({\n",
    "                'html_file': output_file,\n",
    "                'title': metadata['title'],\n",
    "                'image': metadata['image'] if metadata['image'].startswith('/') else '/{}'.format(metadata['image']),\n",
    "                'description': metadata['description']\n",
    "            })\n",
    "        \n",
    "        # Copy static folder\n",
    "        self.__copy_static_folder()\n",
    "\n",
    "        # Create index file\n",
    "        self.__write_index_file(generated_notes)\n",
    "\n",
    "\n",
    "    def __get_all_ipynb_files(self):\n",
    "        return [\n",
    "            filepath \n",
    "            for filepath in glob.iglob('{rootdir}/**/*.ipynb'.format(rootdir=self.__PATH_NOTES_FOLDER), recursive=True)\n",
    "        ]\n",
    "\n",
    "    def __create_output_dir(self, filepath):\n",
    "\n",
    "        # Make the outputdir path\n",
    "        output_directory = os.path.dirname(os.path.join(self.__PATH_OUTPUT_FOLDER, self.__OUTPUT_FOLDER_PREFIX, filepath))\n",
    "\n",
    "        # Create output directory if it not exists\n",
    "        if not os.path.exists(output_directory):\n",
    "            os.makedirs(output_directory)\n",
    "\n",
    "        return output_directory\n",
    "\n",
    "    def __read_ipynb_file(self, inputfile):\n",
    "        # Get file data\n",
    "        with open(inputfile, 'r') as file:\n",
    "            data = file.read()\n",
    "\n",
    "        # Initialize the notebook\n",
    "        notebook = nbformat.reads(data, as_version=4)\n",
    "\n",
    "        # Get metadata\n",
    "        metadata = notebook['metadata'][self.__METADATA_NOTEBOOK_KEY]\n",
    "        metadata['filename'] = os.path.basename(inputfile) \n",
    "\n",
    "        return notebook, metadata\n",
    "\n",
    "    def __copy_static_folder(self):\n",
    "        output_folder = os.path.join(self.__PATH_OUTPUT_FOLDER, 'static');\n",
    "        input_folder = self.__PATH_STATIC_FOLDER\n",
    "        \n",
    "        # Delete old folder\n",
    "        if (os.path.exists(output_folder)):\n",
    "            shutil.rmtree(output_folder)\n",
    "    \n",
    "        # Copy new folder\n",
    "        shutil.copytree(input_folder, output_folder)\n",
    "    \n",
    "    def __convert_ipynb_notebook(self, notebook):\n",
    "        # Convert notebook\n",
    "        body, resources = self.html_exporter.from_notebook_node(notebook)\n",
    "\n",
    "        return body, resources\n",
    "        \n",
    "    def __write_output_file(self, outputdir, metadata, body, resource):\n",
    "        \n",
    "        # Get meta information\n",
    "        title = metadata.get('title', 'Notes')\n",
    "\n",
    "        context = {\n",
    "            'html_body': body,\n",
    "            'inline_css': resource['inlining']['css'],\n",
    "\n",
    "            'title': title\n",
    "        }\n",
    "\n",
    "        # Get outputfile name\n",
    "        filename = '{name}.html'.format(name='.'.join(metadata['filename'].split('.')[:-1]))\n",
    "        output_filename = os.path.join(outputdir, filename)\n",
    "\n",
    "        slug_title = metadata.get('slug', None)\n",
    "        if slug_title is not None:\n",
    "            output_filename = os.path.join(outputdir, '{name}.html'.format(name=slug_title))\n",
    "        \n",
    "        # Render notes\n",
    "        self.__render_template(output_filename, self.__PATH_NOTE_TEMPLATE, context)\n",
    "\n",
    "        return output_filename[output_filename.index('/') + 1: ]\n",
    "    \n",
    "    def __write_index_file(self, notes):\n",
    "        context = {\n",
    "            'notes': notes\n",
    "        }\n",
    "\n",
    "        # Render index.html\n",
    "        self.__render_template(self.__OUTPUT_INDEX_FILE_PATH, self.__PATH_INDEX_TEMPLATE, context)\n",
    "  \n",
    "    def __render_template(self, output_path, template_path, context={}):\n",
    "        # Read template\n",
    "        with open(template_path, 'r') as file:\n",
    "            template_data = file.read()\n",
    "        \n",
    "        # Render template\n",
    "        template = Template(template_data)\n",
    "        rendered_data = template.render(**context)\n",
    "\n",
    "        # Added github static assets prefix\n",
    "        rendered_data = self.__add_static_assets_prefix(rendered_data)\n",
    "\n",
    "        # Write output file\n",
    "        with open(output_path, 'w') as file:\n",
    "            file.write(rendered_data)\n",
    "\n",
    "    def __add_static_assets_prefix(self, html_data):\n",
    "        data_url_regex = re.compile(r'data:image/.*')\n",
    "        \n",
    "        html = BeautifulSoup(html_data, 'html.parser')\n",
    "        \n",
    "        # Replace source of images\n",
    "        for image in html.findAll('img'):\n",
    "            \n",
    "            # Skip data urls\n",
    "            if data_url_regex.match(image['src']):\n",
    "                continue\n",
    "\n",
    "            # Make url absolute\n",
    "            image['src'] = '/{}'.format(image['src']) if not image['src'].startswith('/') else image['src']\n",
    "            image['src'] = '{}{}'.format(self.__STATIC_ASSETS_PREFIX, image['src'])\n",
    "            \n",
    "            # Add zoom.js attribute\n",
    "            image['data-action'] = 'zoom'\n",
    "\n",
    "        return str(html)"
   ]
  },
  {
   "cell_type": "markdown",
   "metadata": {
    "kernel": "SoS"
   },
   "source": [
    "## Main\n",
    "\n",
    "Main entry point of the process."
   ]
  },
  {
   "cell_type": "code",
   "execution_count": 14,
   "metadata": {
    "kernel": "SoS",
    "scrolled": true
   },
   "outputs": [
    {
     "name": "stdout",
     "output_type": "stream",
     "text": [
      "Cleaning directory...\n",
      "Creating HTML notes...\n",
      "Done!!!\n"
     ]
    }
   ],
   "source": [
    "import time\n",
    "\n",
    "class Main(object):\n",
    "\n",
    "    @staticmethod\n",
    "    def start():\n",
    "        print('Cleaning directory...')\n",
    "        Cleaner.clean()\n",
    "        print('Creating HTML notes...')\n",
    "        HTMLConverter().convert()\n",
    "        print('Done!!!')\n",
    "\n",
    "Main.start()"
   ]
  }
 ],
 "metadata": {
  "kernelspec": {
   "display_name": "Python [conda env:notes] *",
   "language": "python",
   "name": "conda-env-notes-py"
  },
  "language_info": {
   "codemirror_mode": {
    "name": "ipython",
    "version": 3
   },
   "file_extension": ".py",
   "mimetype": "text/x-python",
   "name": "python",
   "nbconvert_exporter": "python",
   "pygments_lexer": "ipython3",
   "version": "3.6.8"
  },
  "sos": {
   "kernels": [
    [
     "SoS",
     "sos",
     "",
     "",
     "sos"
    ],
    [
     "python3",
     "python3",
     "python",
     "",
     ""
    ]
   ],
   "panel": {
    "displayed": true,
    "height": 0
   },
   "version": "0.19.1"
  },
  "toc": {
   "base_numbering": 1,
   "nav_menu": {
    "height": "387px",
    "width": "537px"
   },
   "number_sections": true,
   "sideBar": true,
   "skip_h1_title": false,
   "title_cell": "Table of Contents",
   "title_sidebar": "Contents",
   "toc_cell": false,
   "toc_position": {},
   "toc_section_display": true,
   "toc_window_display": false
  }
 },
 "nbformat": 4,
 "nbformat_minor": 2
}
